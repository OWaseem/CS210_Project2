{
 "cells": [
  {
   "cell_type": "markdown",
   "metadata": {},
   "source": [
    "## Mini Project 2\n",
    "\n",
    "## Lecture Transcript Word Frequency Analysis\n",
    "\n",
    "## 100 Points."
   ]
  },
  {
   "cell_type": "markdown",
   "metadata": {},
   "source": [
    "```mermaid\n",
    "graph TB\n",
    "    \n",
    "EPT[\"1.1<br>extract_pdf_text\"]\n",
    "RH[\"1.2<br>remove_headers\"]\n",
    "RP[\"1.3<br>remove_parentheses\"]\n",
    "RS[\"1.4<br>remove_speakers\"]\n",
    "\n",
    "SIS[\"2.1<br>split_into_sentences\"]\n",
    "TS[\"2.2<br>tokenize_sentence\"]\n",
    "RSW[\"2.3<br>remove_stopwords\"]\n",
    "\n",
    "SAC[\"3.1<br>save_as_csv\"]\n",
    "\n",
    "CWF[\"4.1<br>update_word_frequency\"]\n",
    "PWFD[\"4.2<br>plot_word_frequency_dist\"]\n",
    "SWBF[\"4.3<br>sort_words_by_frequency\"]\n",
    "FBIOW[\"4.4<br>find_bucket_index_of_words\"]\n",
    "SAJ[\"4.5<br>save_as_json\"]\n",
    "PSWF[\"4.6<br>plot_stacked_word_frequency\"]\n",
    "\n",
    "EPT --> RH\n",
    "RH --> RP\n",
    "RP --> RS\n",
    "\n",
    "RS --> SIS\n",
    "SIS --> TS\n",
    "TS --> RSW\n",
    "\n",
    "RSW --> SAC\n",
    "\n",
    "RSW --> CWF\n",
    "CWF --> PWFD\n",
    "CWF --> SWBF\n",
    "SWBF --> FBIOW\n",
    "\n",
    "FBIOW --> SAJ\n",
    "\n",
    "FBIOW --> PSWF\n",
    "CWF --> PSWF\n",
    "\n",
    "subgraph \"Extract Text Contents\"\n",
    "    EPT\n",
    "    RH\n",
    "    RP\n",
    "    RS\n",
    "end\n",
    "\n",
    "subgraph \"Natural Language Preprocessing\"\n",
    "    SIS\n",
    "    TS\n",
    "    RSW\n",
    "end\n",
    "\n",
    "subgraph \"Save the Cleaned Text\"\n",
    "    SAC\n",
    "end\n",
    "\n",
    "subgraph \"Word Frequency Analysis\"\n",
    "    CWF\n",
    "    PWFD\n",
    "    SWBF\n",
    "    FBIOW\n",
    "    SAJ\n",
    "    PSWF\n",
    "end\n",
    "```"
   ]
  },
  {
   "cell_type": "markdown",
   "metadata": {},
   "source": [
    "### Task 1 (30 pts): Extract text contents"
   ]
  },
  {
   "cell_type": "markdown",
   "metadata": {},
   "source": [
    "#### 1.1 (5 pts): Extract the text from a PDF file."
   ]
  },
  {
   "cell_type": "markdown",
   "metadata": {},
   "source": [
    "Write a function `extract_pdf_text(file_path)` that:\n",
    "\n",
    "- **Input:** A string `file_path` specifying the path to a PDF file.\n",
    "- **Output:** A string containing all the text extracted from the PDF file.\n",
    "\n",
    "**Note:**\n",
    "- For this task, you may use the [`pypdf` module](https://github.com/py-pdf/pypdf) to extract text from the PDF file.\n",
    "  - To install the module, open a terminal and run \n",
    "  ```bash\n",
    "  pip install pypdf\n",
    "  ```\n",
    "  If you are using Linux or MacOS, you may need to run `pip3` instead of `pip`.\n",
    "- Join the text from different pages with a space."
   ]
  },
  {
   "cell_type": "code",
   "execution_count": 11,
   "metadata": {},
   "outputs": [],
   "source": [
    "from pypdf import PdfReader\n",
    "\n",
    "def extract_pdf_text(file_path):\n",
    "    \"\"\"\n",
    "    Extracts text from a PDF file as a string\n",
    "    IN: file_path, str, path to the PDF file\n",
    "    OUT: text, str, extracted text from all pages joined together with whitespaces\n",
    "    \"\"\"\n",
    "    # create a reader to read the PDF file\n",
    "    reader = PdfReader(file_path)\n",
    "\n",
    "    text_list = [] # list to collect text from each page\n",
    "    for page in reader.pages:\n",
    "        # extract text from the page\n",
    "        page_text = page.extract_text() \n",
    "        # append the text to the list\n",
    "        text_list.append(page_text)\n",
    "\n",
    "    # join the text from all pages with whitespaces\n",
    "    text = ' '.join(text_list)\n",
    "    return text"
   ]
  },
  {
   "cell_type": "markdown",
   "metadata": {},
   "source": [
    "#### 1.2 (7 pts): Remove headers."
   ]
  },
  {
   "cell_type": "markdown",
   "metadata": {},
   "source": [
    "Write a function `remove_headers(text)` that:\n",
    "\n",
    "- **Input:** A string `text` extracted from the PDF file.\n",
    "- **Output:** A string that does not contain the header texts.\n",
    "\n",
    "**Note:**\n",
    "- Some lecture transcripts may contain a header with the service name \"StreamBox\" on the first page. Remove it if it is present. See `transcript 1.pdf` for an example.\n",
    "- Some lecture transcripts may start with a Disclaimer. Remove all the text enclosed by `**********DISCLAIMER**********` (included). See `transcript 4.pdf` for an example.\n"
   ]
  },
  {
   "cell_type": "code",
   "execution_count": 14,
   "metadata": {},
   "outputs": [
    {
     "data": {
      "text/plain": [
       "\"  \\nTHE FOLLOWING IS AN UNEDITED DRAFT TRANSLATION. THIS TRANSCRIPT MAY NOT BE \\nVERBATIM, HAS NOT BEEN PROOFREAD AND MAY CONTAIN ERRORS. THESE CHECK WITH \\nTHE SPEAKERS FOR ANY CLARIFICATION.  \\nTHIS TRANSCRIPT MAY NOT BE COPIED OR DISSEMINATED UNLESS YOU OBTAIN WRITTEN \\nPERMISSION FROM THE OFFICE OR SERVICE DEPARTMENT THAT IS PROVIDING CART \\nCAPTIONING TO YOU.  \\nTHIS TRANSCRIPT MAY NOT USED IN A COURT OF LAW. -FT  \\n**********DISCLAIMER**********  \\nRNB ZR CS 198 8:30-9:50 a.m. ET  \\nSeptember 19, 2024  \\n>> INSTRUCTOR: For sets, we also use parentheses. And there's an important distinction \\nbetween these three types of data subsets and this one . Very important distinction. The \\ndictionaries are (Indiscernible) it's quite different to this. We call them characteristic . This \\ntwo. There are sequences. These two. Sets -- let me do here -- sets are different from these \\ntwo in that sense. Sets have no sequences . When we say that something is a sequence, it's \\nbecause it exists in order, and sets do not have order. [word?] Analysis totally different to \\nthis, totally different to this, totally different to this. It's mapping. When you have key \\ncoccode -- codon and.[word?]. Collections of these things. Call Peter column A. John column \\nB. I cannot associate grades with names as an example. This language, Python, is very \\nsyntactic.  \\nWhat that means is unfortunately, this is my personal opinion, you have to watch out \\nwhere do you put the quotes, where do you put the comma. It's very syntactic in that \\nregard. You have to be very careful in that regard. The only way to handle this is to do the \\nexercises in the book. It's very difficult I would say copper for me at least, to remember all \\nthe details of the syntactical so I can see why the book is a great tool. You know, you see \\ncough you run it because organicities answer is. You're gonna repeat etc. But conceptually, \\ndespite all the syntactical knowledge, these are the things to remember. About this \\ncollections of data. What are the important operations that you can perform on that data? \\nThe first operation is membership.  \\nTo be able to test different elements is in this set or not. And the operator used in Python \\nfor that is two letters. IN For in . That's membership. The other important operator is the \\nlength operator LEN, and this tells you the number of elements in the collection. The other \\none is that when you have a certain name, you can use brackets. And here you could put \\nan index. Let's say I check let me put a number. 17. So this is the name of your collection, \\nwhatever name you have. Black 17 is indicating that's the 17th element in that collection. Is \\nthat clear? What is the caveat about that? What is the caveat about that? The caveat is that \\nthis accessing of data by using an index is not possible always.  \\nIt depends of the type of collection that you're dealing with. This indexing is okay for lists \\nand it's okay for tuples . So this business of indices is related to the fact that these two are  sequences . Where you have a sequence, there is order that you can index . That's not true \\nfor sets. So any time that any type of a statement that you have, it's important to share \\nwhat is the perimeter of that function, and it's important to check the perimeter can be \\nindexed. There is a generalization of that . Usually when we say indices in this case, it's \\nbecause we who like to (Indiscernible) that by a number. The assumption is whatever data \\nyou're having can be viewed, and this is just a view . This is just a view of indexing of the \\ndata that you're dealing with that can be viewed as an ordered collection of boxes . And in \\neach of these boxes, you have an element.  \\nThen The first one is the (Indiscernible) that is the assumption, so you have a collection that \\ncan be viewed in this way . That means it can be indexed . The classical example of that is \\nthings. The lower type of collection that you can think of before these guys are the slings \\n(sp?) Slings are the most atomic collection. I want to make sure you understand the strings \\ncan be used to create lists, create tuples, create sets, create dictionaries so it's very atomic . \\nStrings are the typical collection that can be indexed. Now you have to be careful. Because \\nevery language creates new datatypes differently and have to look at the definition of the \\nlanguage in its specification and it will tell you.  \\nThis Particular type can be indexed by accessing elements with an integer. What happens \\nto be that the generalization of that is when you're dealing with dictionaries, it's not that \\nthey can be indexed, but they can be accessed by keys . The way to understand this is if \\nyou have chiasm example, created column A for grades. Jay Column F. Emmy column C. \\nSuji: B etc. so this is collection of key value pairs. The keys are the names. The value are the \\ngrades as an example. This is a collection of grades. Then there's a weigh in we will look at \\nexamples of saying grades accessed by the key . As an example, the grades is the name of \\nthe collection . You can write grades and right here Emmy . This is saying that collection, \\nthat dictionary that has been formatted in this way, you can access a particular element by \\nspecifying the key as a parameter.  \\nIn This case grades Emmy would be you assign that to a value to say call G . What is the \\nvalue of G? After that statement from this example? G is C. Grades is the name of this. \\nEmmy is the key. Grades MER C see you assign it to G value C. Is that clear? The point that \\nI'm making here there are ways to access data depending on the type of collection by keys \\nin this dictionary. But do you have things like lists and tuples? You can access them by \\nindex. That is the difference. Okay? There is a name for this generalization where you have \\naccess either by keys like here or by index like there. The name for this type of collections \\nare iterable . That means you can iterate over the collection. Why are we pushing on this? \\nIt's because when you start doing these exercises, you do an example for strings, example \\nfor tuples, example for sets.  \\nThere Are over whole bunch of rules and nothing to do is create a table yourself that \\nchecks if I have a list, how do I check membership? How do I check the length? Can I index \\nthat list? The answer is yes. But you go to sets, you can do this, you can do this, but you \\ncannot index the set. So you re-create your own table listing all of these and putting \\ncheckmarks for the type of operations that you can do (Indiscernible) to put together what \\nyou're (Indiscernible) examples I see a list, brackets, lists of integers can be lists of  something else . Here this is a list of what are the subjects? (Indiscernible) Strings . This is a \\nmixed list . The string separated by commas . What is the commonality here? What am I \\nusing brackets and commas? Yes?  \\nTypes of operations that you want to do. Membership, length and indices. Given this list, \\nbecause you have brackets, A is the value of this list and this is the same as 2.5 in A . This is \\nthe operator that is checking that it's 2.5 is in A. What is the value of this expression? Is this \\nfalse for this example or is it true? True . What about this one? Printed three names. What \\nis the value of this expression? Three names? False . This will print true. This will print false . \\nI want to emphasize this is applying the discussion in the lecture that there are these \\nexpressions that have values, and that's what this is doing. You are evaluating expressions \\ninside and printing them using the membership operator. The length of A. What should be \\nthe answer here? Length means how many elements an object has.  \\nThis Is the object. How many objects -- elements the subject has? Look at the commas . It \\nhas 123 elements. This one. A which is the subject . This block is zero, so what is the \\nunderstanding on this? A is this. It's sequence. And so list. This A with brackets means \\nsingle element in that list. Which one is that? Can you tell may the answer?  \\n>> STUDENT: (Away From Mic).  \\n>> INSTRUCTOR: What is the answer?  \\n>> STUDENT: (Away From Mic).  \\n>> INSTRUCTOR: Yeah. What is your answer? This is A? Single element of A? What is that? \\nYeah? One? Zero element of this list is this guy. This is value one so this would be one. \\nRaise your hand if you get this. What about this one? Remember the trick to get all this \\nestablished always every way the deepest parentheses first. The deepest out. Here, this is \\nin this case the deepest parenthesis is length A -1 with this brackets. What is length A- one? \\nWhat is this value here? Forget the A for a second. What is this value here?  \\n>> STUDENT: (Away From Mic).  \\n>> INSTRUCTOR: What?  \\n>> STUDENT: (Away From Mic).  \\n>> INSTRUCTOR: What is it? Two? This is two? The length of A is 3 - 1 is to so now A \\nevaluated at two, that means it gets me there. Second element on that list, which is 2.5. \\nThis one is kind of tricky. A -1. That's kind of tricky. There's a convention in Python that this \\nwill give you -- come on, there's some people that claim that they know Python . What is \\nthis? Yeah?  \\n>> STUDENT: (Away From Mic).  \\n>> INSTRUCTOR: The last element for the list. It's funny that it's -1. This allows you to check \\nyour answer. This is very useful now. This function LIST takes what is given as an element \\nand makes a list out of it. Again, the way to link this is the argument here is a string . The \\nstring containing ABCDE . This is one object. This string is only one object. There's one \\nstring. Okay? When you apply the function LIST to that one object, that function LIST \\ntransforms that object into a list of its components. ABCDE is six string of five characters . \\nWhen you apply LIST to it, what this is going to do is it's going to create a list for you \\nconsisting of each of those elements . In this case, each of these characters. The subject is  completely different -this object is completely different from the initial object. The initial \\nobject is one string. .  \\nWhen You apply this function, now you have a list. With five objects. Which object is a \\ncharacter . This is very useful . Another very useful thing is that this list can be nested . Here \\nyou have this is a list has two commas here so this list has three elements. This is one \\nelement. This is another element . And this is another element. This list has three elements. \\nBut the single element is a list itself. Is not clear? This list contains 123 elements, and the \\nsingle element, which is the first one you want to think, is a list by itself. Now you apply the \\nlength of the (Indiscernible) to this object . This will be answering you three. Why? Because \\nthis outermost list contains 123 objects.  \\nSo when you apply the length operator to this, if it's nested to the answer that you get is \\nthe outermost number of elements, so in this case three. Okay. Now when you have this \\nnested list, the nice thing is you can index them by using double or triple indices that you \\nwant. Let's look at the example of double indices. Right here in this example, you have a list \\n. This is the outermost brackets. That's a list. This list contains one element to two \\nelements, three elements, four elements. The first element or the single element is a list \\nthat contains two elements. The first element contains -- excuse may the first list contains \\ntwo elements. The first list contains two elements. So now you write down you assign this \\nto the nested list and you write down two and one in brackets. This is telling you you access \\nthe -- what this means this two?  \\nThe Second element in this list, and when you get the second element of that list access the \\nfirst element of that. What is the second element in the list? This is the first element \\nbecause second element, third element. The second element is this list here and this list, \\nthat's the second one here. Now we are going to focus on that one and that one . You want \\nelement one so this is the single element for this and this is the first element of this and the \\nanswer is.[word?] Which is here. These are the four assistants for the classroom. Okay? A \\nlist is mutable. That means you can change the elements in the list. For example here, just \\nto make sure that this is clear, this is a list assigned to the value A so the type of A list, now \\nyou want to use this A function to -- F function to print it in a precise and specified way. A \\nand D parentheses DOA is the location of the subject and the value of that object . Now \\nsuppose now you access the single element of value A.  \\nThe single value is what you want and suppose you take the number five and you store it in \\nthat location. This is what this is doing for you. What this is doing is replacing this -- \\nreplacing this by five and now you do the same statement you will see that you get instead \\nof 123 you would get 523. What are the elements here that you have to put together if \\nyou've never seen this? The elements here is you need to know what is the type of object \\nyou're dealing with . In this case it's a list. Because it's a list, you know that you can index \\nthe element of that list. That means you can access any element on that list . To access \\nthat, you use this mechanism of brackets of the index and at the time you can index \\nwhatever and you can change it or you can read it etc.  \\nWe have several caveats here. For example, you're looking at this particular example . A \\nnow is a type of string because this is on the right-hand side. This is string 123 assigned to  A. You want to bring that ideal way which is the location for that and the value of that and \\nthen you would get the answer this is the idea and the value 123 but now it complains. I \\nwas accessing the single element and I was putting I wanted to store it in five. Here's the \\none I wanted to put five. I would not have it. So this is contradicting what I told you. I just \\ntold you that you have a list. I told you you can index the elements of a list. Here you have \\n123. What is 1 to 3 on that first time it's not a list. You can make it a list and then index \\nthem.  \\nThe Idea here is you always have to be careful what is the type of object you are dealing \\nwith. A string is a string . That cannot be indexed. You want to index it, you can use the \\nprevious trick for transforming that into a list and now you can index that list so that's \\nwhat's happening. Another important operation for these things is you want to add stuff to \\nit. Depending on the collection and given operations to add stuff to your objects. So you \\nhave a list . You have a method . You have something like this in Python . That means \\nwhatever you write is a function that can be applied to that list . In this case you want to \\nappend to a list, and it has some brackets to pull the particular articles.  \\nThe Important thing to understand here is that the specification of this list, it tells you \\ndirectly this will take here a single element . This is seeing you want to use this? The \\nargument should be a single element. Let's try it out. 123 (Indiscernible) assigned to X. Now \\nyou say X (Indiscernible) but you want to append to this list X the element four so four will \\nbe added to this. All I'm saying is that this argument has to be a single element. So you \\nprinted and now four gets added to the list. There's something very nice . This part is nice \\nin the language is that you can actually append an entire list to a list that you already have. \\nUp to this point, X contains the list 1234.  \\nNow I would like to append to this another list which is 45. So I would like to attach this to \\nthis . The trick is that this is saying this has to be a single element. So you say X dollar \\nappend parentheses four five, this is a single object. So this is okay . This is a single object. \\nIf you were going to ignore these brackets, this would not work because append will \\nrequire here to have a single object but you put the brackets, that's a single object. Now \\nnotice what happens here. This 1234, you attached to it another object which is 45 as a \\nsingle object. This is not going to be discreet increases or anything like that. So append is \\nnice. There's something actually really useful in massive data mining which is this operation \\ncalled extend . Extend is a more sophisticated type of append.  \\nYou want to extend a list by something, and in general, what this is telling you is that you \\ncan put here a single any interable type. You can put in a simple string here or you can put \\nhere a list or you can put here a tuple or a cell in the dictionary so this is very generic here \\nas long as you put an argument that is one of these things that can be iterated . What this \\nextend does this goes inside whatever you put here is an argument and takes this stuff \\ninside and splits it out for you. Let's see the example here. You have a list 123 and you \\nwould like to extend that by this object here, which is 4567. Extend is different to append . \\nAppend comes in on one single object. Extend takes this cog goes inside cut takes every \\nsingle piece and attaches it to the existing list here and this is the application of this. Moral \\nof the story. Append and extend are related, but extend is a lot more sophisticated.   It Takes a complicated structure that you want to attach to something existing, and it goes \\ninside of it and it breaks it down and creates this larger, nice object and you have to be \\ncareful where the errors are. Here another nice example. You have the same 123 and you \\nwant to extend it by the string ABC but you are using extend . This is going to go inside ABC \\nand look at each individual component and it's going to attach it to this so you can create \\nlists out of existing objects. That's the beauty and actually the power of this. Many times in \\ndata processing, you would like to delete an element, and you have a list to delete an \\nelement. You use this function called pop so you're going to pop something from the list.  \\nYou Specify the index of the element you would like to remove and remove it. When you \\ndon't specify the index, then the last element is removed by default. Okay. Now we pass to \\nanother type of collection which is called a tuple, and you will see regarding these lists it's \\nso important to see the differences between possible lists. These are called tuples. The \\ndifference between tuples and lists our tuples are immutable. Once you create a tuple, it \\ncannot be changed. Fixed factors. You see where this fits in general data science. You can \\nthink that you have a record of information, and each of these objects has a name . Maybe \\na name . Again just the last time we did an example with the name, grade, maybe age, \\nweight, etc. This is a record of information about let's say a particular individual. And you \\ncan think of that Peter A 25 etc.  \\nThat whole collection you can think of that as a tuple. This is very, very, very, very basic and \\nimportant data construction to have tuples. When you specify how many pieces your tuple \\nhas, that is called the schema for your data and we'll be using that when we get to \\nrelational databases in three weeks or so. Tuples are fixed length objects. Excuse me, fixed \\n(Indiscernible) this is a tuple. You put parentheses. This tuple has two pieces. One is \\n(Indiscernible) and one is a string and you print it (Indiscernible) . There's another way to \\ncreate tuples. There's a function called tuple. You write TUPLE parentheses and inside you \\nput whatever you want and that creates a tuple.  \\nWhat would be the output after this assignment our what should be the output here? This \\nis good way to study by the way. Parentheses two comma A, but A has some so it should be \\ntwo comma quote A quote A What about here? What happens if you write a tuple like this? \\nHow many elements does this tuple have by the way? How many elements this tuple has? \\nOne. The outermost is one object. And this is the point about using a tuple that what you \\nput inside the argument, the specification, is one object that can be iterated. Notice this \\nlast transformation from here to here. The argument to this tuple is what? It's string . This \\nis the argument to this tuple is a string. How out of that string do you get a tuple which is \\nsomething like this? A record of information.  \\nWhen You apply tuple to that string, this is what happens. The individual components are \\nspit out and now from here on, you can treat this whole thing as a tuple . On the first \\nposition it has this value. On the second position has this value etc. You may be asking \\nyourself, what is the difference between strings and lists? A string is quite different to \\ntuples. This is a string. This is a tuple. Yes, this tuple is obtained from the string, but using \\nthe tuple function. This cannot be modified. And you can become very creative with tuples. \\nFor example, look at this example. By the way, this parentheses sometimes you may omit  them . It's better not to omit them. The purpose of this exercise is not that. The purpose of \\nthis exercise is from the right side you have something string comma two. On the left-hand \\nside, you have A comma B which are two volumes.  \\nHere Is this assignment statement so this is called (Indiscernible) in general when we have \\nspoken of assignments, we have something on the right-hand side being assigned to one \\nvalue on the left. Here this is telling you that you can use this mechanism of making \\nmultiple assignments at the same time. Here, you have three and two separated by \\ncommas . These are two things. On the left-hand side you have HEY, MAC B. So after you \\nsay print, this value A comma B, you get three comma two. You may not be paying \\nattention to this detail very carefully. The purpose of this example is not to tell you how to \\nprint three comma two. That's not the mportance. That's reality.  \\nThe Purpose of this is to show you that the language allows you to assign several things to \\nseveral things as long as they have the same number of items. At the same time . You could \\nachieve the same thing by first assigning three to A and then assigning two to B and then \\ndoing it. The language that allows you to do this simultaneously (Indiscernible) and now \\nwhen you do that ConA look you can do things like this. BA It is assigned to AB . For this, \\nthe value of B is assigned to A and the value of A's assigned to B . This is flipping the two. \\nWith one statement. Sets. Sets don't have order, but for these languages to be able to \\naccess elements in a set, you have to use your mechanism internally which is called \\nhashing . Can anybody tell me what hashing is? Yeah?  \\n>> STUDENT: Framing the value with a function based on some mathematical operation.  \\n>> INSTRUCTOR: Wow . Repeat again.  \\n>> STUDENT: Assigning value to a function or object --  \\n>> INSTRUCTOR: No because assigning a value to an object . To a collection of objects.  \\n>> STUDENT: Based on mathematical operation.  \\n>> INSTRUCTOR: Based on mathematical operation. Are you running for office? That's a \\nvery good description . Hashing is assigning value to a collection of objects. What kind of \\nvalue? It's important. What is the type of value that hashing function assigns to an object? \\nThis is a potato. This is a Coca-Cola. Give me (Indiscernible) question again. When we speak \\nof hashing, taking some set of data objects. This is a mechanism to assign to the subject a \\nvalue. What kind of value?  \\n>> STUDENT: (Away From Mic).  \\n>> INSTRUCTOR: No . It cannot be (Indiscernible). A number . It cannot be any type of \\nnumber. Must be an integer. Why? Why it must be an integer? Say it again louder please? \\nOkay. It must be an integer because these integers can be thought of as identified buckets \\nor positions in memory can be followed. Positions in memory . The importance of this is \\nyou have a whole URL let's say of a page . You like to assigned to that whole URL a number. \\nRather than that whole bunch of factors concatenated together call you would like to \\nassignment to a number. We talk of hashing, it's important to remember . This is a way to \\nassigned to objects integers and there are different types and there are different classes of \\nhashing functions and some of them are not very sophisticated or simple. To understand. \\nYou want to learn more about this. You have to like prime numbers.   They all have hashing functions. So if I was going to list the names of all you guys, it would \\nbe hard for me to remember all the names. I will apply a hashing and then each of you will \\nbecome a number. Then at some point in the class, and we may do this actually, we have a \\nspinning wheel and that spinning wheel will generate out of those numbers a random \\nnumber. I don't know who the person is . Mr. 175. Mr. 175 will be one of you and then you \\nwill be asked a question. It's a mechanism to treat data by mapping the data into numbers. \\nThese are hashing functions. And of course, there are certain conditions for individuals to \\nbe mapped to the same (Indiscernible) a lot about hashing functions. From your viewpoint, \\nyou just have to think that you have something like let's say ABC and you apply the hash \\nfunction, now what object is this now?  \\nThis is string ABC and you apply a hash function to it. What object is this now? Hash of ABC, \\nwhat is it?  \\n>> STUDENT: (Away From Mic).  \\n>> INSTRUCTOR: It's an integer . Now you can manipulate this integer anyway you want. So \\nthis is the way that strings are used . You don't have to understand what is inside the hash \\nfunction. You just have to understand that there is a mechanism in the language that \\nassigns to that object some integer. In this case this hash is applied to this very complicated \\nobject and this very complicated object after that is an integer. To conclude this part of the \\nclass, all these things (Microphone Interference) but you who like to build sets out of basic \\nobjects. Trusting. You can create a set by using this kind of parentheses, curly brackets if \\nyou want. Here it says 223 and you want a set out of it whereby definition sets cannot have \\nrepetitions. So when you apply this assignment and you want this to be a set call when you \\nput these curly brackets, automatically in the language the repetitions are ignored.  \\nSo There are two 2s and only 12 on the screen. This is as I said is 23, not to 23. Sets can \\nhave things of different types. For example you said two has this element or string three \\nstring two blah, blah, blah and these are the elements of the set. Be careful. This too is not \\nthis two. This two is the integer two. There's two is the string TWO. The restriction about \\nsets is you cannot have inside the set you cannot have a list as members of a set. So this is \\nnot good. You cannot say a set that has inside a list. Sets don't have order so they cannot \\nbe integers so you say set two bracket index . No, that cannot be done. About this is that \\nsets can be billed from any interable collection. You just have to bind the interable to this \\nparticular function SET . What is nice is it takes whatever you put here is an argument and it \\ncreates a set out of it. Let's look at examples.  \\nHere is a string and you put SET in front of it, this is going to create a set for you out of this. \\nIn this case, that set is LPEA. nevermind about the order. It depends on different \\nimplementations in the language but nevermind about that. The important thing is here \\nwith two P and only one P. When you apply SET to it because the particular elements of this \\nstring are separated and now you have a set consisting of all the characters that appear in \\nthat string. Look at this one. This is set and now you have 14321 and now you print it and \\nyou get 1234. Because this one is only one element Necessary. XY ectasy. X is repeated \\nhere so one element is printed. The thing to remember is this is a very powerful \\nconstruction. SET Makes a set out of any interable argument that you put down. Now there  are certain things that you can do to a set. You can test if an element is in the set. You can \\ncheck the length but you cannot index a set.  \\nYou cannot say give may the 17th element in your set. You can add elements to a set. For \\nexample, you have this assignment because this is this curly bracket saying this is a set. \\nYou store in A . Now you want to add an element to it. You take A, the element five and this \\nelement five gets added to the set. But if five is already in the set, that would not be added. \\nI'll give you examples of adding more things. The last example I want to mention is this \\none. This is extremely powerful . You have a set and now you want to apply the update \\nfunction to that set. You can put here as another argument any interable collection \\nwhether it's a string, list, tuple, another set, and what it will do is will take each element of \\nthat interable that you put here is an argument and add it to the sat. look at an example \\nhere.  \\nWe have set A with these integers and B and the second element is 3X and now you would \\nlike to update this. What happens? Anybody? Maybe this is simpler for you, the last one. \\nYou have A and you would like to update it with (Indiscernible) Z. A is that. Look what \\nhappens. This becomes that. This is that. This one is that one. B is that B. At some point, \\nyou updated that with five and the next time you updated that with AZ both this AZ is \\nbetween a and C and it's added. It's a little bit thought behind this so you need to \\nunderstand. You can remove elements from a set . That's very simple. The element is not in \\nthe set and you try to remove it, the language will tell you hey. you are trying to remove \\nsomething that is not there. if you want to be safe, instead of removing cow you can say \\ndiscard and if the element isn't there. don't give me an arrow.  \\nI Think this is a good time to stop and we'll finish dictionaries. One thing that I would like, \\nnext week we will be assigning to you your first group project, mini project. And you -- in \\norder for you to get ready for that, those of you that don't know how to set up your local \\nnotebook, there are no books that you can get on the cloud, but sometimes you would like \\nto have your own local notebook so the TA will be helping you with that in the recitation. \\nThe second item is that the first notebook that you will be creating for this class will be a \\nsimulation of a random walk . It doesn't sound very sophisticated. You will (Indiscernible) \\nand the TA will be teaching you how in about 15 or 20 lines of Python code you can \\nsimulate a random walk . What is a random walk in the (Indiscernible) now random you are \\ngoing to assign them to go up, left, right or down and actually you can print your random \\nwalk.  \\nYou Are interested in developing games, randomization is a very important element in \\ncreating games so we want you to develop your own notebook with your group to tackle \\nthings of this sort and this is gonna be covered in your recitation today. Yeah?  \\n>> STUDENT: (Away From Mic).  \\n>> INSTRUCTOR: (Indiscernible) We will have a (Indiscernible) session if you want to gain \\nsome points. So when you finish the quiz, go to (Indiscernible) and.[name?] Is going to put \\nthe information. First go to the quiz and when you finish the quiz, you are allowed to \\nparticipate in the exercise and you'll be able to gain some points. You should be doing the \\nquiz now by the way. All you have to do is type that URL to get to samurai (sp?) . Everybody  ready? You are going to have three-minute questions so you can get bonus.  \\n>> STUDENT: (Away From Mic).  \\n>> INSTRUCTOR: If you join in the chat, then you cannot participate. To join the bonus, \\nthat's the URL. It's a short link URL. It's the same as last time.  \\n>> STUDENT: (Away From Mic).  \\n>> INSTRUCTOR: We will tell you.  \\n(End Of Session) \""
      ]
     },
     "execution_count": 14,
     "metadata": {},
     "output_type": "execute_result"
    }
   ],
   "source": [
    "def remove_headers(text):\n",
    "    \"\"\"\n",
    "    Removes headers from the text\n",
    "    IN: text, str, text to remove headers from\n",
    "    OUT: text, str, text with headers removed\n",
    "    \"\"\"\n",
    "    # if there is any leading \"StreamBox\", remove it\n",
    "    if text[:9] == 'StreamBox':\n",
    "        text = text.replace(\"StreamBox\",\"\",1)\n",
    "\n",
    "    # if there is any **********DISCLAIMER**********, find the matched end, and remove it\n",
    "    firstI = text.find(\"**********DISCLAIMER**********\")\n",
    "    if(firstI != -1):\n",
    "        secondI = text.find(\"**********DISCLAIMER**********\",firstI)\n",
    "        text = text[secondI + len(\"**********DISCLAIMER**********\"):]\n",
    "    return text\n"
   ]
  },
  {
   "cell_type": "markdown",
   "metadata": {},
   "source": [
    "#### 1.3 (10 pts): Remove transcription system notes enclosed by parentheses."
   ]
  },
  {
   "cell_type": "markdown",
   "metadata": {},
   "source": [
    "Write a function `remove_parentheses(text)` that:\n",
    "\n",
    "- **Input:** A string `text` that has been processed by the previous functions.\n",
    "- **Output:** A string that does not contain the transcription system notes enclosed by parentheses.\n",
    "\n",
    "**Note:**\n",
    "- Some lecture transcripts use parentheses to provide additional information about the transcription system. Remove all the text enclosed by parentheses. For example, `[Captioner standing by]` in `transcript 1.pdf`.\n",
    "- There are NO nested parentheses in the lecture transcripts.\n",
    "- The parentheses may either be round parentheses `()` or square parentheses `[]`.\n",
    "- Some parentheses may be followed immediately by a period. For example, `(Away From Mic).` in `transcript 4.pdf`. In this case, you should remove the period as well.\n",
    "- You are welcome to use regular expressions to solve this task, but it is not required. You can use Python built-in string methods to achieve the same result.\n"
   ]
  },
  {
   "cell_type": "code",
   "execution_count": 33,
   "metadata": {},
   "outputs": [
    {
     "data": {
      "text/plain": [
       "\"StreamBox \\n**********DISCLAIMER**********  \\nTHE FOLLOWING IS AN UNEDITED DRAFT TRANSLATION. THIS TRANSCRIPT MAY NOT BE \\nVERBATIM, HAS NOT BEEN PROOFREAD AND MAY CONTAIN ERRORS. THESE CHECK WITH \\nTHE SPEAKERS FOR ANY CLARIFICATION.  \\nTHIS TRANSCRIPT MAY NOT BE COPIED OR DISSEMINATED UNLESS YOU OBTAIN WRITTEN \\nPERMISSION FROM THE OFFICE OR SERVICE DEPARTMENT THAT IS PROVIDING CART \\nCAPTIONING TO YOU.  \\nTHIS TRANSCRIPT MAY NOT USED IN A COURT OF LAW. -FT  \\n**********DISCLAIMER**********  \\nRNB ZR CS 198 8:30-9:50 a.m. ET  \\nSeptember 19, 2024  \\n>> INSTRUCTOR: For sets, we also use parentheses. And there's an important distinction \\nbetween these three types of data subsets and this one . Very important distinction. The \\ndictionaries are it's quite different to this. We call them characteristic . This \\ntwo. There are sequences. These two. Sets -- let me do here -- sets are different from these \\ntwo in that sense. Sets have no sequences . When we say that something is a sequence, it's \\nbecause it exists in order, and sets do not have order. Analysis totally different to \\nthis, totally different to this, totally different to this. It's mapping. When you have key \\ncoccode -- codon and Collections of these things. Call Peter column A. John column \\nB. I cannot associate grades with names as an example. This language, Python, is very \\nsyntactic.  \\nWhat that means is unfortunately, this is my personal opinion, you have to watch out \\nwhere do you put the quotes, where do you put the comma. It's very syntactic in that \\nregard. You have to be very careful in that regard. The only way to handle this is to do the \\nexercises in the book. It's very difficult I would say copper for me at least, to remember all \\nthe details of the syntactical so I can see why the book is a great tool. You know, you see \\ncough you run it because organicities answer is. You're gonna repeat etc. But conceptually, \\ndespite all the syntactical knowledge, these are the things to remember. About this \\ncollections of data. What are the important operations that you can perform on that data? \\nThe first operation is membership.  \\nTo be able to test different elements is in this set or not. And the operator used in Python \\nfor that is two letters. IN For in . That's membership. The other important operator is the \\nlength operator LEN, and this tells you the number of elements in the collection. The other \\none is that when you have a certain name, you can use brackets. And here you could put \\nan index. Let's say I check let me put a number. 17. So this is the name of your collection, \\nwhatever name you have. Black 17 is indicating that's the 17th element in that collection. Is \\nthat clear? What is the caveat about that? What is the caveat about that? The caveat is that \\nthis accessing of data by using an index is not possible always.  \\nIt depends of the type of collection that you're dealing with. This indexing is okay for lists \\nand it's okay for tuples . So this business of indices is related to the fact that these two are  sequences . Where you have a sequence, there is order that you can index . That's not true \\nfor sets. So any time that any type of a statement that you have, it's important to share \\nwhat is the perimeter of that function, and it's important to check the perimeter can be \\nindexed. There is a generalization of that . Usually when we say indices in this case, it's \\nbecause we who like to that by a number. The assumption is whatever data \\nyou're having can be viewed, and this is just a view . This is just a view of indexing of the \\ndata that you're dealing with that can be viewed as an ordered collection of boxes . And in \\neach of these boxes, you have an element.  \\nThen The first one is the that is the assumption, so you have a collection that \\ncan be viewed in this way . That means it can be indexed . The classical example of that is \\nthings. The lower type of collection that you can think of before these guys are the slings  Slings are the most atomic collection. I want to make sure you understand the strings \\ncan be used to create lists, create tuples, create sets, create dictionaries so it's very atomic . \\nStrings are the typical collection that can be indexed. Now you have to be careful. Because \\nevery language creates new datatypes differently and have to look at the definition of the \\nlanguage in its specification and it will tell you.  \\nThis Particular type can be indexed by accessing elements with an integer. What happens \\nto be that the generalization of that is when you're dealing with dictionaries, it's not that \\nthey can be indexed, but they can be accessed by keys . The way to understand this is if \\nyou have chiasm example, created column A for grades. Jay Column F. Emmy column C. \\nSuji: B etc. so this is collection of key value pairs. The keys are the names. The value are the \\ngrades as an example. This is a collection of grades. Then there's a weigh in we will look at \\nexamples of saying grades accessed by the key . As an example, the grades is the name of \\nthe collection . You can write grades and right here Emmy . This is saying that collection, \\nthat dictionary that has been formatted in this way, you can access a particular element by \\nspecifying the key as a parameter.  \\nIn This case grades Emmy would be you assign that to a value to say call G . What is the \\nvalue of G? After that statement from this example? G is C. Grades is the name of this. \\nEmmy is the key. Grades MER C see you assign it to G value C. Is that clear? The point that \\nI'm making here there are ways to access data depending on the type of collection by keys \\nin this dictionary. But do you have things like lists and tuples? You can access them by \\nindex. That is the difference. Okay? There is a name for this generalization where you have \\naccess either by keys like here or by index like there. The name for this type of collections \\nare iterable . That means you can iterate over the collection. Why are we pushing on this? \\nIt's because when you start doing these exercises, you do an example for strings, example \\nfor tuples, example for sets.  \\nThere Are over whole bunch of rules and nothing to do is create a table yourself that \\nchecks if I have a list, how do I check membership? How do I check the length? Can I index \\nthat list? The answer is yes. But you go to sets, you can do this, you can do this, but you \\ncannot index the set. So you re-create your own table listing all of these and putting \\ncheckmarks for the type of operations that you can do to put together what \\nyou're examples I see a list, brackets, lists of integers can be lists of  something else . Here this is a list of what are the subjects? Strings . This is a \\nmixed list . The string separated by commas . What is the commonality here? What am I \\nusing brackets and commas? Yes?  \\nTypes of operations that you want to do. Membership, length and indices. Given this list, \\nbecause you have brackets, A is the value of this list and this is the same as 2.5 in A . This is \\nthe operator that is checking that it's 2.5 is in A. What is the value of this expression? Is this \\nfalse for this example or is it true? True . What about this one? Printed three names. What \\nis the value of this expression? Three names? False . This will print true. This will print false . \\nI want to emphasize this is applying the discussion in the lecture that there are these \\nexpressions that have values, and that's what this is doing. You are evaluating expressions \\ninside and printing them using the membership operator. The length of A. What should be \\nthe answer here? Length means how many elements an object has.  \\nThis Is the object. How many objects -- elements the subject has? Look at the commas . It \\nhas 123 elements. This one. A which is the subject . This block is zero, so what is the \\nunderstanding on this? A is this. It's sequence. And so list. This A with brackets means \\nsingle element in that list. Which one is that? Can you tell may the answer?  \\n>> STUDENT:  \\n>> INSTRUCTOR: What is the answer?  \\n>> STUDENT:  \\n>> INSTRUCTOR: Yeah. What is your answer? This is A? Single element of A? What is that? \\nYeah? One? Zero element of this list is this guy. This is value one so this would be one. \\nRaise your hand if you get this. What about this one? Remember the trick to get all this \\nestablished always every way the deepest parentheses first. The deepest out. Here, this is \\nin this case the deepest parenthesis is length A -1 with this brackets. What is length A- one? \\nWhat is this value here? Forget the A for a second. What is this value here?  \\n>> STUDENT:  \\n>> INSTRUCTOR: What?  \\n>> STUDENT:  \\n>> INSTRUCTOR: What is it? Two? This is two? The length of A is 3 - 1 is to so now A \\nevaluated at two, that means it gets me there. Second element on that list, which is 2.5. \\nThis one is kind of tricky. A -1. That's kind of tricky. There's a convention in Python that this \\nwill give you -- come on, there's some people that claim that they know Python . What is \\nthis? Yeah?  \\n>> STUDENT:  \\n>> INSTRUCTOR: The last element for the list. It's funny that it's -1. This allows you to check \\nyour answer. This is very useful now. This function LIST takes what is given as an element \\nand makes a list out of it. Again, the way to link this is the argument here is a string . The \\nstring containing ABCDE . This is one object. This string is only one object. There's one \\nstring. Okay? When you apply the function LIST to that one object, that function LIST \\ntransforms that object into a list of its components. ABCDE is six string of five characters . \\nWhen you apply LIST to it, what this is going to do is it's going to create a list for you \\nconsisting of each of those elements . In this case, each of these characters. The subject is  completely different -this object is completely different from the initial object. The initial \\nobject is one string. .  \\nWhen You apply this function, now you have a list. With five objects. Which object is a \\ncharacter . This is very useful . Another very useful thing is that this list can be nested . Here \\nyou have this is a list has two commas here so this list has three elements. This is one \\nelement. This is another element . And this is another element. This list has three elements. \\nBut the single element is a list itself. Is not clear? This list contains 123 elements, and the \\nsingle element, which is the first one you want to think, is a list by itself. Now you apply the \\nlength of the to this object . This will be answering you three. Why? Because \\nthis outermost list contains 123 objects.  \\nSo when you apply the length operator to this, if it's nested to the answer that you get is \\nthe outermost number of elements, so in this case three. Okay. Now when you have this \\nnested list, the nice thing is you can index them by using double or triple indices that you \\nwant. Let's look at the example of double indices. Right here in this example, you have a list \\n. This is the outermost brackets. That's a list. This list contains one element to two \\nelements, three elements, four elements. The first element or the single element is a list \\nthat contains two elements. The first element contains -- excuse may the first list contains \\ntwo elements. The first list contains two elements. So now you write down you assign this \\nto the nested list and you write down two and one in brackets. This is telling you you access \\nthe -- what this means this two?  \\nThe Second element in this list, and when you get the second element of that list access the \\nfirst element of that. What is the second element in the list? This is the first element \\nbecause second element, third element. The second element is this list here and this list, \\nthat's the second one here. Now we are going to focus on that one and that one . You want \\nelement one so this is the single element for this and this is the first element of this and the \\nanswer is Which is here. These are the four assistants for the classroom. Okay? A \\nlist is mutable. That means you can change the elements in the list. For example here, just \\nto make sure that this is clear, this is a list assigned to the value A so the type of A list, now \\nyou want to use this A function to -- F function to print it in a precise and specified way. A \\nand D parentheses DOA is the location of the subject and the value of that object . Now \\nsuppose now you access the single element of value A.  \\nThe single value is what you want and suppose you take the number five and you store it in \\nthat location. This is what this is doing for you. What this is doing is replacing this -- \\nreplacing this by five and now you do the same statement you will see that you get instead \\nof 123 you would get 523. What are the elements here that you have to put together if \\nyou've never seen this? The elements here is you need to know what is the type of object \\nyou're dealing with . In this case it's a list. Because it's a list, you know that you can index \\nthe element of that list. That means you can access any element on that list . To access \\nthat, you use this mechanism of brackets of the index and at the time you can index \\nwhatever and you can change it or you can read it etc.  \\nWe have several caveats here. For example, you're looking at this particular example . A \\nnow is a type of string because this is on the right-hand side. This is string 123 assigned to  A. You want to bring that ideal way which is the location for that and the value of that and \\nthen you would get the answer this is the idea and the value 123 but now it complains. I \\nwas accessing the single element and I was putting I wanted to store it in five. Here's the \\none I wanted to put five. I would not have it. So this is contradicting what I told you. I just \\ntold you that you have a list. I told you you can index the elements of a list. Here you have \\n123. What is 1 to 3 on that first time it's not a list. You can make it a list and then index \\nthem.  \\nThe Idea here is you always have to be careful what is the type of object you are dealing \\nwith. A string is a string . That cannot be indexed. You want to index it, you can use the \\nprevious trick for transforming that into a list and now you can index that list so that's \\nwhat's happening. Another important operation for these things is you want to add stuff to \\nit. Depending on the collection and given operations to add stuff to your objects. So you \\nhave a list . You have a method . You have something like this in Python . That means \\nwhatever you write is a function that can be applied to that list . In this case you want to \\nappend to a list, and it has some brackets to pull the particular articles.  \\nThe Important thing to understand here is that the specification of this list, it tells you \\ndirectly this will take here a single element . This is seeing you want to use this? The \\nargument should be a single element. Let's try it out. 123 assigned to X. Now \\nyou say X but you want to append to this list X the element four so four will \\nbe added to this. All I'm saying is that this argument has to be a single element. So you \\nprinted and now four gets added to the list. There's something very nice . This part is nice \\nin the language is that you can actually append an entire list to a list that you already have. \\nUp to this point, X contains the list 1234.  \\nNow I would like to append to this another list which is 45. So I would like to attach this to \\nthis . The trick is that this is saying this has to be a single element. So you say X dollar \\nappend parentheses four five, this is a single object. So this is okay . This is a single object. \\nIf you were going to ignore these brackets, this would not work because append will \\nrequire here to have a single object but you put the brackets, that's a single object. Now \\nnotice what happens here. This 1234, you attached to it another object which is 45 as a \\nsingle object. This is not going to be discreet increases or anything like that. So append is \\nnice. There's something actually really useful in massive data mining which is this operation \\ncalled extend . Extend is a more sophisticated type of append.  \\nYou want to extend a list by something, and in general, what this is telling you is that you \\ncan put here a single any interable type. You can put in a simple string here or you can put \\nhere a list or you can put here a tuple or a cell in the dictionary so this is very generic here \\nas long as you put an argument that is one of these things that can be iterated . What this \\nextend does this goes inside whatever you put here is an argument and takes this stuff \\ninside and splits it out for you. Let's see the example here. You have a list 123 and you \\nwould like to extend that by this object here, which is 4567. Extend is different to append . \\nAppend comes in on one single object. Extend takes this cog goes inside cut takes every \\nsingle piece and attaches it to the existing list here and this is the application of this. Moral \\nof the story. Append and extend are related, but extend is a lot more sophisticated.   It Takes a complicated structure that you want to attach to something existing, and it goes \\ninside of it and it breaks it down and creates this larger, nice object and you have to be \\ncareful where the errors are. Here another nice example. You have the same 123 and you \\nwant to extend it by the string ABC but you are using extend . This is going to go inside ABC \\nand look at each individual component and it's going to attach it to this so you can create \\nlists out of existing objects. That's the beauty and actually the power of this. Many times in \\ndata processing, you would like to delete an element, and you have a list to delete an \\nelement. You use this function called pop so you're going to pop something from the list.  \\nYou Specify the index of the element you would like to remove and remove it. When you \\ndon't specify the index, then the last element is removed by default. Okay. Now we pass to \\nanother type of collection which is called a tuple, and you will see regarding these lists it's \\nso important to see the differences between possible lists. These are called tuples. The \\ndifference between tuples and lists our tuples are immutable. Once you create a tuple, it \\ncannot be changed. Fixed factors. You see where this fits in general data science. You can \\nthink that you have a record of information, and each of these objects has a name . Maybe \\na name . Again just the last time we did an example with the name, grade, maybe age, \\nweight, etc. This is a record of information about let's say a particular individual. And you \\ncan think of that Peter A 25 etc.  \\nThat whole collection you can think of that as a tuple. This is very, very, very, very basic and \\nimportant data construction to have tuples. When you specify how many pieces your tuple \\nhas, that is called the schema for your data and we'll be using that when we get to \\nrelational databases in three weeks or so. Tuples are fixed length objects. Excuse me, fixed  this is a tuple. You put parentheses. This tuple has two pieces. One is  and one is a string and you print it . There's another way to \\ncreate tuples. There's a function called tuple. You write TUPLE parentheses and inside you \\nput whatever you want and that creates a tuple.  \\nWhat would be the output after this assignment our what should be the output here? This \\nis good way to study by the way. Parentheses two comma A, but A has some so it should be \\ntwo comma quote A quote A What about here? What happens if you write a tuple like this? \\nHow many elements does this tuple have by the way? How many elements this tuple has? \\nOne. The outermost is one object. And this is the point about using a tuple that what you \\nput inside the argument, the specification, is one object that can be iterated. Notice this \\nlast transformation from here to here. The argument to this tuple is what? It's string . This \\nis the argument to this tuple is a string. How out of that string do you get a tuple which is \\nsomething like this? A record of information.  \\nWhen You apply tuple to that string, this is what happens. The individual components are \\nspit out and now from here on, you can treat this whole thing as a tuple . On the first \\nposition it has this value. On the second position has this value etc. You may be asking \\nyourself, what is the difference between strings and lists? A string is quite different to \\ntuples. This is a string. This is a tuple. Yes, this tuple is obtained from the string, but using \\nthe tuple function. This cannot be modified. And you can become very creative with tuples. \\nFor example, look at this example. By the way, this parentheses sometimes you may omit  them . It's better not to omit them. The purpose of this exercise is not that. The purpose of \\nthis exercise is from the right side you have something string comma two. On the left-hand \\nside, you have A comma B which are two volumes.  \\nHere Is this assignment statement so this is called in general when we have \\nspoken of assignments, we have something on the right-hand side being assigned to one \\nvalue on the left. Here this is telling you that you can use this mechanism of making \\nmultiple assignments at the same time. Here, you have three and two separated by \\ncommas . These are two things. On the left-hand side you have HEY, MAC B. So after you \\nsay print, this value A comma B, you get three comma two. You may not be paying \\nattention to this detail very carefully. The purpose of this example is not to tell you how to \\nprint three comma two. That's not the mportance. That's reality.  \\nThe Purpose of this is to show you that the language allows you to assign several things to \\nseveral things as long as they have the same number of items. At the same time . You could \\nachieve the same thing by first assigning three to A and then assigning two to B and then \\ndoing it. The language that allows you to do this simultaneously and now \\nwhen you do that ConA look you can do things like this. BA It is assigned to AB . For this, \\nthe value of B is assigned to A and the value of A's assigned to B . This is flipping the two. \\nWith one statement. Sets. Sets don't have order, but for these languages to be able to \\naccess elements in a set, you have to use your mechanism internally which is called \\nhashing . Can anybody tell me what hashing is? Yeah?  \\n>> STUDENT: Framing the value with a function based on some mathematical operation.  \\n>> INSTRUCTOR: Wow . Repeat again.  \\n>> STUDENT: Assigning value to a function or object --  \\n>> INSTRUCTOR: No because assigning a value to an object . To a collection of objects.  \\n>> STUDENT: Based on mathematical operation.  \\n>> INSTRUCTOR: Based on mathematical operation. Are you running for office? That's a \\nvery good description . Hashing is assigning value to a collection of objects. What kind of \\nvalue? It's important. What is the type of value that hashing function assigns to an object? \\nThis is a potato. This is a Coca-Cola. Give me question again. When we speak \\nof hashing, taking some set of data objects. This is a mechanism to assign to the subject a \\nvalue. What kind of value?  \\n>> STUDENT:  \\n>> INSTRUCTOR: No . It cannot be A number . It cannot be any type of \\nnumber. Must be an integer. Why? Why it must be an integer? Say it again louder please? \\nOkay. It must be an integer because these integers can be thought of as identified buckets \\nor positions in memory can be followed. Positions in memory . The importance of this is \\nyou have a whole URL let's say of a page . You like to assigned to that whole URL a number. \\nRather than that whole bunch of factors concatenated together call you would like to \\nassignment to a number. We talk of hashing, it's important to remember . This is a way to \\nassigned to objects integers and there are different types and there are different classes of \\nhashing functions and some of them are not very sophisticated or simple. To understand. \\nYou want to learn more about this. You have to like prime numbers.   They all have hashing functions. So if I was going to list the names of all you guys, it would \\nbe hard for me to remember all the names. I will apply a hashing and then each of you will \\nbecome a number. Then at some point in the class, and we may do this actually, we have a \\nspinning wheel and that spinning wheel will generate out of those numbers a random \\nnumber. I don't know who the person is . Mr. 175. Mr. 175 will be one of you and then you \\nwill be asked a question. It's a mechanism to treat data by mapping the data into numbers. \\nThese are hashing functions. And of course, there are certain conditions for individuals to \\nbe mapped to the same a lot about hashing functions. From your viewpoint, \\nyou just have to think that you have something like let's say ABC and you apply the hash \\nfunction, now what object is this now?  \\nThis is string ABC and you apply a hash function to it. What object is this now? Hash of ABC, \\nwhat is it?  \\n>> STUDENT:  \\n>> INSTRUCTOR: It's an integer . Now you can manipulate this integer anyway you want. So \\nthis is the way that strings are used . You don't have to understand what is inside the hash \\nfunction. You just have to understand that there is a mechanism in the language that \\nassigns to that object some integer. In this case this hash is applied to this very complicated \\nobject and this very complicated object after that is an integer. To conclude this part of the \\nclass, all these things but you who like to build sets out of basic \\nobjects. Trusting. You can create a set by using this kind of parentheses, curly brackets if \\nyou want. Here it says 223 and you want a set out of it whereby definition sets cannot have \\nrepetitions. So when you apply this assignment and you want this to be a set call when you \\nput these curly brackets, automatically in the language the repetitions are ignored.  \\nSo There are two 2s and only 12 on the screen. This is as I said is 23, not to 23. Sets can \\nhave things of different types. For example you said two has this element or string three \\nstring two blah, blah, blah and these are the elements of the set. Be careful. This too is not \\nthis two. This two is the integer two. There's two is the string TWO. The restriction about \\nsets is you cannot have inside the set you cannot have a list as members of a set. So this is \\nnot good. You cannot say a set that has inside a list. Sets don't have order so they cannot \\nbe integers so you say set two bracket index . No, that cannot be done. About this is that \\nsets can be billed from any interable collection. You just have to bind the interable to this \\nparticular function SET . What is nice is it takes whatever you put here is an argument and it \\ncreates a set out of it. Let's look at examples.  \\nHere is a string and you put SET in front of it, this is going to create a set for you out of this. \\nIn this case, that set is LPEA. nevermind about the order. It depends on different \\nimplementations in the language but nevermind about that. The important thing is here \\nwith two P and only one P. When you apply SET to it because the particular elements of this \\nstring are separated and now you have a set consisting of all the characters that appear in \\nthat string. Look at this one. This is set and now you have 14321 and now you print it and \\nyou get 1234. Because this one is only one element Necessary. XY ectasy. X is repeated \\nhere so one element is printed. The thing to remember is this is a very powerful \\nconstruction. SET Makes a set out of any interable argument that you put down. Now there  are certain things that you can do to a set. You can test if an element is in the set. You can \\ncheck the length but you cannot index a set.  \\nYou cannot say give may the 17th element in your set. You can add elements to a set. For \\nexample, you have this assignment because this is this curly bracket saying this is a set. \\nYou store in A . Now you want to add an element to it. You take A, the element five and this \\nelement five gets added to the set. But if five is already in the set, that would not be added. \\nI'll give you examples of adding more things. The last example I want to mention is this \\none. This is extremely powerful . You have a set and now you want to apply the update \\nfunction to that set. You can put here as another argument any interable collection \\nwhether it's a string, list, tuple, another set, and what it will do is will take each element of \\nthat interable that you put here is an argument and add it to the sat. look at an example \\nhere.  \\nWe have set A with these integers and B and the second element is 3X and now you would \\nlike to update this. What happens? Anybody? Maybe this is simpler for you, the last one. \\nYou have A and you would like to update it with Z. A is that. Look what \\nhappens. This becomes that. This is that. This one is that one. B is that B. At some point, \\nyou updated that with five and the next time you updated that with AZ both this AZ is \\nbetween a and C and it's added. It's a little bit thought behind this so you need to \\nunderstand. You can remove elements from a set . That's very simple. The element is not in \\nthe set and you try to remove it, the language will tell you hey. you are trying to remove \\nsomething that is not there. if you want to be safe, instead of removing cow you can say \\ndiscard and if the element isn't there. don't give me an arrow.  \\nI Think this is a good time to stop and we'll finish dictionaries. One thing that I would like, \\nnext week we will be assigning to you your first group project, mini project. And you -- in \\norder for you to get ready for that, those of you that don't know how to set up your local \\nnotebook, there are no books that you can get on the cloud, but sometimes you would like \\nto have your own local notebook so the TA will be helping you with that in the recitation. \\nThe second item is that the first notebook that you will be creating for this class will be a \\nsimulation of a random walk . It doesn't sound very sophisticated. You will \\nand the TA will be teaching you how in about 15 or 20 lines of Python code you can \\nsimulate a random walk . What is a random walk in the now random you are \\ngoing to assign them to go up, left, right or down and actually you can print your random \\nwalk.  \\nYou Are interested in developing games, randomization is a very important element in \\ncreating games so we want you to develop your own notebook with your group to tackle \\nthings of this sort and this is gonna be covered in your recitation today. Yeah?  \\n>> STUDENT:  \\n>> INSTRUCTOR: We will have a session if you want to gain \\nsome points. So when you finish the quiz, go to and Is going to put \\nthe information. First go to the quiz and when you finish the quiz, you are allowed to \\nparticipate in the exercise and you'll be able to gain some points. You should be doing the \\nquiz now by the way. All you have to do is type that URL to get to samurai . Everybody  ready? You are going to have three-minute questions so you can get bonus.  \\n>> STUDENT:  \\n>> INSTRUCTOR: If you join in the chat, then you cannot participate. To join the bonus, \\nthat's the URL. It's a short link URL. It's the same as last time.  \\n>> STUDENT:  \\n>> INSTRUCTOR: We will tell you.   \""
      ]
     },
     "execution_count": 33,
     "metadata": {},
     "output_type": "execute_result"
    }
   ],
   "source": [
    "import re # if you don't know regular expressions, ignore this import, and use Python plain vanilla string methods\n",
    "\n",
    "def remove_parentheses(text):\n",
    "    \"\"\"\n",
    "    Removes text within parentheses\n",
    "    IN: text, str, text to remove notes enclosed in parentheses\n",
    "    OUT: text, str, text without parentheses notes\n",
    "    \"\"\"\n",
    "    # remove round parentheses () and the text within them. If there is a trailing period, remove it as well\n",
    "    while(text.find('(') != -1):\n",
    "        index = text.find('(')\n",
    "        sindex = text.find(')',index)\n",
    "        if(text[sindex+1] == '.'):\n",
    "            sindex = sindex +1\n",
    "        text = text[:index-1] + text[sindex +1:]\n",
    "\n",
    "    # remove square parentheses [] and the text within them. If there is a trailing period, remove it as well\n",
    "    while(text.find('[') != -1):\n",
    "        index = text.find('[')\n",
    "        sindex = text.find(']',index)\n",
    "        if(text[sindex+1] == '.'):\n",
    "            sindex = sindex +1\n",
    "        text = text[:index-1] + text[sindex+ 1:]\n",
    "\n",
    "    return text"
   ]
  },
  {
   "cell_type": "markdown",
   "metadata": {},
   "source": [
    "#### 1.4 (8 pts): Remove speaker notations."
   ]
  },
  {
   "cell_type": "markdown",
   "metadata": {},
   "source": [
    "Write a function `remove_speakers(text)` that:\n",
    "\n",
    "- **Input:** A string `text` that has been processed by the previous functions.\n",
    "- **Output:** A string that does not contain the speaker notations.\n",
    "\n",
    "**Note:**\n",
    "- Speaker notations start with two greater-than symbols `>>`, followed by the speaker's name in uppercase letters, and end with a colon `:`. For example, `>> INSTRUCTOR:`.\n",
    "- `>>` symbols are used only for speaker notations and NOT for any other purposes.\n",
    "- You are welcome to use regular expressions to solve this task, but it is not required. You can use Python built-in string methods to achieve the same result."
   ]
  },
  {
   "cell_type": "code",
   "execution_count": 12,
   "metadata": {},
   "outputs": [
    {
     "data": {
      "text/plain": [
       "\"StreamBox \\n**********DISCLAIMER**********  \\nTHE FOLLOWING IS AN UNEDITED DRAFT TRANSLATION. THIS TRANSCRIPT MAY NOT BE \\nVERBATIM, HAS NOT BEEN PROOFREAD AND MAY CONTAIN ERRORS. THESE CHECK WITH \\nTHE SPEAKERS FOR ANY CLARIFICATION.  \\nTHIS TRANSCRIPT MAY NOT BE COPIED OR DISSEMINATED UNLESS YOU OBTAIN WRITTEN \\nPERMISSION FROM THE OFFICE OR SERVICE DEPARTMENT THAT IS PROVIDING CART \\nCAPTIONING TO YOU.  \\nTHIS TRANSCRIPT MAY NOT USED IN A COURT OF LAW. -FT  \\n**********DISCLAIMER**********  \\nRNB ZR CS 198 8:30-9:50 a.m. ET  \\nSeptember 19, 2024 For sets, we also use parentheses. And there's an important distinction \\nbetween these three types of data subsets and this one . Very important distinction. The \\ndictionaries are (Indiscernible) it's quite different to this. We call them characteristic . This \\ntwo. There are sequences. These two. Sets -- let me do here -- sets are different from these \\ntwo in that sense. Sets have no sequences . When we say that something is a sequence, it's \\nbecause it exists in order, and sets do not have order. [word?] Analysis totally different to \\nthis, totally different to this, totally different to this. It's mapping. When you have key \\ncoccode -- codon and.[word?]. Collections of these things. Call Peter column A. John column \\nB. I cannot associate grades with names as an example. This language, Python, is very \\nsyntactic.  \\nWhat that means is unfortunately, this is my personal opinion, you have to watch out \\nwhere do you put the quotes, where do you put the comma. It's very syntactic in that \\nregard. You have to be very careful in that regard. The only way to handle this is to do the \\nexercises in the book. It's very difficult I would say copper for me at least, to remember all \\nthe details of the syntactical so I can see why the book is a great tool. You know, you see \\ncough you run it because organicities answer is. You're gonna repeat etc. But conceptually, \\ndespite all the syntactical knowledge, these are the things to remember. About this \\ncollections of data. What are the important operations that you can perform on that data? \\nThe first operation is membership.  \\nTo be able to test different elements is in this set or not. And the operator used in Python \\nfor that is two letters. IN For in . That's membership. The other important operator is the \\nlength operator LEN, and this tells you the number of elements in the collection. The other \\none is that when you have a certain name, you can use brackets. And here you could put \\nan index. Let's say I check let me put a number. 17. So this is the name of your collection, \\nwhatever name you have. Black 17 is indicating that's the 17th element in that collection. Is \\nthat clear? What is the caveat about that? What is the caveat about that? The caveat is that \\nthis accessing of data by using an index is not possible always.  \\nIt depends of the type of collection that you're dealing with. This indexing is okay for lists \\nand it's okay for tuples . So this business of indices is related to the fact that these two are  sequences . Where you have a sequence, there is order that you can index . That's not true \\nfor sets. So any time that any type of a statement that you have, it's important to share \\nwhat is the perimeter of that function, and it's important to check the perimeter can be \\nindexed. There is a generalization of that . Usually when we say indices in this case, it's \\nbecause we who like to (Indiscernible) that by a number. The assumption is whatever data \\nyou're having can be viewed, and this is just a view . This is just a view of indexing of the \\ndata that you're dealing with that can be viewed as an ordered collection of boxes . And in \\neach of these boxes, you have an element.  \\nThen The first one is the (Indiscernible) that is the assumption, so you have a collection that \\ncan be viewed in this way . That means it can be indexed . The classical example of that is \\nthings. The lower type of collection that you can think of before these guys are the slings \\n(sp?) Slings are the most atomic collection. I want to make sure you understand the strings \\ncan be used to create lists, create tuples, create sets, create dictionaries so it's very atomic . \\nStrings are the typical collection that can be indexed. Now you have to be careful. Because \\nevery language creates new datatypes differently and have to look at the definition of the \\nlanguage in its specification and it will tell you.  \\nThis Particular type can be indexed by accessing elements with an integer. What happens \\nto be that the generalization of that is when you're dealing with dictionaries, it's not that \\nthey can be indexed, but they can be accessed by keys . The way to understand this is if \\nyou have chiasm example, created column A for grades. Jay Column F. Emmy column C. \\nSuji: B etc. so this is collection of key value pairs. The keys are the names. The value are the \\ngrades as an example. This is a collection of grades. Then there's a weigh in we will look at \\nexamples of saying grades accessed by the key . As an example, the grades is the name of \\nthe collection . You can write grades and right here Emmy . This is saying that collection, \\nthat dictionary that has been formatted in this way, you can access a particular element by \\nspecifying the key as a parameter.  \\nIn This case grades Emmy would be you assign that to a value to say call G . What is the \\nvalue of G? After that statement from this example? G is C. Grades is the name of this. \\nEmmy is the key. Grades MER C see you assign it to G value C. Is that clear? The point that \\nI'm making here there are ways to access data depending on the type of collection by keys \\nin this dictionary. But do you have things like lists and tuples? You can access them by \\nindex. That is the difference. Okay? There is a name for this generalization where you have \\naccess either by keys like here or by index like there. The name for this type of collections \\nare iterable . That means you can iterate over the collection. Why are we pushing on this? \\nIt's because when you start doing these exercises, you do an example for strings, example \\nfor tuples, example for sets.  \\nThere Are over whole bunch of rules and nothing to do is create a table yourself that \\nchecks if I have a list, how do I check membership? How do I check the length? Can I index \\nthat list? The answer is yes. But you go to sets, you can do this, you can do this, but you \\ncannot index the set. So you re-create your own table listing all of these and putting \\ncheckmarks for the type of operations that you can do (Indiscernible) to put together what \\nyou're (Indiscernible) examples I see a list, brackets, lists of integers can be lists of  something else . Here this is a list of what are the subjects? (Indiscernible) Strings . This is a \\nmixed list . The string separated by commas . What is the commonality here? What am I \\nusing brackets and commas? Yes?  \\nTypes of operations that you want to do. Membership, length and indices. Given this list, \\nbecause you have brackets, A is the value of this list and this is the same as 2.5 in A . This is \\nthe operator that is checking that it's 2.5 is in A. What is the value of this expression? Is this \\nfalse for this example or is it true? True . What about this one? Printed three names. What \\nis the value of this expression? Three names? False . This will print true. This will print false . \\nI want to emphasize this is applying the discussion in the lecture that there are these \\nexpressions that have values, and that's what this is doing. You are evaluating expressions \\ninside and printing them using the membership operator. The length of A. What should be \\nthe answer here? Length means how many elements an object has.  \\nThis Is the object. How many objects -- elements the subject has? Look at the commas . It \\nhas 123 elements. This one. A which is the subject . This block is zero, so what is the \\nunderstanding on this? A is this. It's sequence. And so list. This A with brackets means \\nsingle element in that list. Which one is that? Can you tell may the answer? (Away From Mic). What is the answer? (Away From Mic). Yeah. What is your answer? This is A? Single element of A? What is that? \\nYeah? One? Zero element of this list is this guy. This is value one so this would be one. \\nRaise your hand if you get this. What about this one? Remember the trick to get all this \\nestablished always every way the deepest parentheses first. The deepest out. Here, this is \\nin this case the deepest parenthesis is length A -1 with this brackets. What is length A- one? \\nWhat is this value here? Forget the A for a second. What is this value here? (Away From Mic). What? (Away From Mic). What is it? Two? This is two? The length of A is 3 - 1 is to so now A \\nevaluated at two, that means it gets me there. Second element on that list, which is 2.5. \\nThis one is kind of tricky. A -1. That's kind of tricky. There's a convention in Python that this \\nwill give you -- come on, there's some people that claim that they know Python . What is \\nthis? Yeah? (Away From Mic). The last element for the list. It's funny that it's -1. This allows you to check \\nyour answer. This is very useful now. This function LIST takes what is given as an element \\nand makes a list out of it. Again, the way to link this is the argument here is a string . The \\nstring containing ABCDE . This is one object. This string is only one object. There's one \\nstring. Okay? When you apply the function LIST to that one object, that function LIST \\ntransforms that object into a list of its components. ABCDE is six string of five characters . \\nWhen you apply LIST to it, what this is going to do is it's going to create a list for you \\nconsisting of each of those elements . In this case, each of these characters. The subject is  completely different -this object is completely different from the initial object. The initial \\nobject is one string. .  \\nWhen You apply this function, now you have a list. With five objects. Which object is a \\ncharacter . This is very useful . Another very useful thing is that this list can be nested . Here \\nyou have this is a list has two commas here so this list has three elements. This is one \\nelement. This is another element . And this is another element. This list has three elements. \\nBut the single element is a list itself. Is not clear? This list contains 123 elements, and the \\nsingle element, which is the first one you want to think, is a list by itself. Now you apply the \\nlength of the (Indiscernible) to this object . This will be answering you three. Why? Because \\nthis outermost list contains 123 objects.  \\nSo when you apply the length operator to this, if it's nested to the answer that you get is \\nthe outermost number of elements, so in this case three. Okay. Now when you have this \\nnested list, the nice thing is you can index them by using double or triple indices that you \\nwant. Let's look at the example of double indices. Right here in this example, you have a list \\n. This is the outermost brackets. That's a list. This list contains one element to two \\nelements, three elements, four elements. The first element or the single element is a list \\nthat contains two elements. The first element contains -- excuse may the first list contains \\ntwo elements. The first list contains two elements. So now you write down you assign this \\nto the nested list and you write down two and one in brackets. This is telling you you access \\nthe -- what this means this two?  \\nThe Second element in this list, and when you get the second element of that list access the \\nfirst element of that. What is the second element in the list? This is the first element \\nbecause second element, third element. The second element is this list here and this list, \\nthat's the second one here. Now we are going to focus on that one and that one . You want \\nelement one so this is the single element for this and this is the first element of this and the \\nanswer is.[word?] Which is here. These are the four assistants for the classroom. Okay? A \\nlist is mutable. That means you can change the elements in the list. For example here, just \\nto make sure that this is clear, this is a list assigned to the value A so the type of A list, now \\nyou want to use this A function to -- F function to print it in a precise and specified way. A \\nand D parentheses DOA is the location of the subject and the value of that object . Now \\nsuppose now you access the single element of value A.  \\nThe single value is what you want and suppose you take the number five and you store it in \\nthat location. This is what this is doing for you. What this is doing is replacing this -- \\nreplacing this by five and now you do the same statement you will see that you get instead \\nof 123 you would get 523. What are the elements here that you have to put together if \\nyou've never seen this? The elements here is you need to know what is the type of object \\nyou're dealing with . In this case it's a list. Because it's a list, you know that you can index \\nthe element of that list. That means you can access any element on that list . To access \\nthat, you use this mechanism of brackets of the index and at the time you can index \\nwhatever and you can change it or you can read it etc.  \\nWe have several caveats here. For example, you're looking at this particular example . A \\nnow is a type of string because this is on the right-hand side. This is string 123 assigned to  A. You want to bring that ideal way which is the location for that and the value of that and \\nthen you would get the answer this is the idea and the value 123 but now it complains. I \\nwas accessing the single element and I was putting I wanted to store it in five. Here's the \\none I wanted to put five. I would not have it. So this is contradicting what I told you. I just \\ntold you that you have a list. I told you you can index the elements of a list. Here you have \\n123. What is 1 to 3 on that first time it's not a list. You can make it a list and then index \\nthem.  \\nThe Idea here is you always have to be careful what is the type of object you are dealing \\nwith. A string is a string . That cannot be indexed. You want to index it, you can use the \\nprevious trick for transforming that into a list and now you can index that list so that's \\nwhat's happening. Another important operation for these things is you want to add stuff to \\nit. Depending on the collection and given operations to add stuff to your objects. So you \\nhave a list . You have a method . You have something like this in Python . That means \\nwhatever you write is a function that can be applied to that list . In this case you want to \\nappend to a list, and it has some brackets to pull the particular articles.  \\nThe Important thing to understand here is that the specification of this list, it tells you \\ndirectly this will take here a single element . This is seeing you want to use this? The \\nargument should be a single element. Let's try it out. 123 (Indiscernible) assigned to X. Now \\nyou say X (Indiscernible) but you want to append to this list X the element four so four will \\nbe added to this. All I'm saying is that this argument has to be a single element. So you \\nprinted and now four gets added to the list. There's something very nice . This part is nice \\nin the language is that you can actually append an entire list to a list that you already have. \\nUp to this point, X contains the list 1234.  \\nNow I would like to append to this another list which is 45. So I would like to attach this to \\nthis . The trick is that this is saying this has to be a single element. So you say X dollar \\nappend parentheses four five, this is a single object. So this is okay . This is a single object. \\nIf you were going to ignore these brackets, this would not work because append will \\nrequire here to have a single object but you put the brackets, that's a single object. Now \\nnotice what happens here. This 1234, you attached to it another object which is 45 as a \\nsingle object. This is not going to be discreet increases or anything like that. So append is \\nnice. There's something actually really useful in massive data mining which is this operation \\ncalled extend . Extend is a more sophisticated type of append.  \\nYou want to extend a list by something, and in general, what this is telling you is that you \\ncan put here a single any interable type. You can put in a simple string here or you can put \\nhere a list or you can put here a tuple or a cell in the dictionary so this is very generic here \\nas long as you put an argument that is one of these things that can be iterated . What this \\nextend does this goes inside whatever you put here is an argument and takes this stuff \\ninside and splits it out for you. Let's see the example here. You have a list 123 and you \\nwould like to extend that by this object here, which is 4567. Extend is different to append . \\nAppend comes in on one single object. Extend takes this cog goes inside cut takes every \\nsingle piece and attaches it to the existing list here and this is the application of this. Moral \\nof the story. Append and extend are related, but extend is a lot more sophisticated.   It Takes a complicated structure that you want to attach to something existing, and it goes \\ninside of it and it breaks it down and creates this larger, nice object and you have to be \\ncareful where the errors are. Here another nice example. You have the same 123 and you \\nwant to extend it by the string ABC but you are using extend . This is going to go inside ABC \\nand look at each individual component and it's going to attach it to this so you can create \\nlists out of existing objects. That's the beauty and actually the power of this. Many times in \\ndata processing, you would like to delete an element, and you have a list to delete an \\nelement. You use this function called pop so you're going to pop something from the list.  \\nYou Specify the index of the element you would like to remove and remove it. When you \\ndon't specify the index, then the last element is removed by default. Okay. Now we pass to \\nanother type of collection which is called a tuple, and you will see regarding these lists it's \\nso important to see the differences between possible lists. These are called tuples. The \\ndifference between tuples and lists our tuples are immutable. Once you create a tuple, it \\ncannot be changed. Fixed factors. You see where this fits in general data science. You can \\nthink that you have a record of information, and each of these objects has a name . Maybe \\na name . Again just the last time we did an example with the name, grade, maybe age, \\nweight, etc. This is a record of information about let's say a particular individual. And you \\ncan think of that Peter A 25 etc.  \\nThat whole collection you can think of that as a tuple. This is very, very, very, very basic and \\nimportant data construction to have tuples. When you specify how many pieces your tuple \\nhas, that is called the schema for your data and we'll be using that when we get to \\nrelational databases in three weeks or so. Tuples are fixed length objects. Excuse me, fixed \\n(Indiscernible) this is a tuple. You put parentheses. This tuple has two pieces. One is \\n(Indiscernible) and one is a string and you print it (Indiscernible) . There's another way to \\ncreate tuples. There's a function called tuple. You write TUPLE parentheses and inside you \\nput whatever you want and that creates a tuple.  \\nWhat would be the output after this assignment our what should be the output here? This \\nis good way to study by the way. Parentheses two comma A, but A has some so it should be \\ntwo comma quote A quote A What about here? What happens if you write a tuple like this? \\nHow many elements does this tuple have by the way? How many elements this tuple has? \\nOne. The outermost is one object. And this is the point about using a tuple that what you \\nput inside the argument, the specification, is one object that can be iterated. Notice this \\nlast transformation from here to here. The argument to this tuple is what? It's string . This \\nis the argument to this tuple is a string. How out of that string do you get a tuple which is \\nsomething like this? A record of information.  \\nWhen You apply tuple to that string, this is what happens. The individual components are \\nspit out and now from here on, you can treat this whole thing as a tuple . On the first \\nposition it has this value. On the second position has this value etc. You may be asking \\nyourself, what is the difference between strings and lists? A string is quite different to \\ntuples. This is a string. This is a tuple. Yes, this tuple is obtained from the string, but using \\nthe tuple function. This cannot be modified. And you can become very creative with tuples. \\nFor example, look at this example. By the way, this parentheses sometimes you may omit  them . It's better not to omit them. The purpose of this exercise is not that. The purpose of \\nthis exercise is from the right side you have something string comma two. On the left-hand \\nside, you have A comma B which are two volumes.  \\nHere Is this assignment statement so this is called (Indiscernible) in general when we have \\nspoken of assignments, we have something on the right-hand side being assigned to one \\nvalue on the left. Here this is telling you that you can use this mechanism of making \\nmultiple assignments at the same time. Here, you have three and two separated by \\ncommas . These are two things. On the left-hand side you have HEY, MAC B. So after you \\nsay print, this value A comma B, you get three comma two. You may not be paying \\nattention to this detail very carefully. The purpose of this example is not to tell you how to \\nprint three comma two. That's not the mportance. That's reality.  \\nThe Purpose of this is to show you that the language allows you to assign several things to \\nseveral things as long as they have the same number of items. At the same time . You could \\nachieve the same thing by first assigning three to A and then assigning two to B and then \\ndoing it. The language that allows you to do this simultaneously (Indiscernible) and now \\nwhen you do that ConA look you can do things like this. BA It is assigned to AB . For this, \\nthe value of B is assigned to A and the value of A's assigned to B . This is flipping the two. \\nWith one statement. Sets. Sets don't have order, but for these languages to be able to \\naccess elements in a set, you have to use your mechanism internally which is called \\nhashing . Can anybody tell me what hashing is? Yeah? Framing the value with a function based on some mathematical operation. Wow . Repeat again. Assigning value to a function or object -- No because assigning a value to an object . To a collection of objects. Based on mathematical operation. Based on mathematical operation. Are you running for office? That's a \\nvery good description . Hashing is assigning value to a collection of objects. What kind of \\nvalue? It's important. What is the type of value that hashing function assigns to an object? \\nThis is a potato. This is a Coca-Cola. Give me (Indiscernible) question again. When we speak \\nof hashing, taking some set of data objects. This is a mechanism to assign to the subject a \\nvalue. What kind of value? (Away From Mic). No . It cannot be (Indiscernible). A number . It cannot be any type of \\nnumber. Must be an integer. Why? Why it must be an integer? Say it again louder please? \\nOkay. It must be an integer because these integers can be thought of as identified buckets \\nor positions in memory can be followed. Positions in memory . The importance of this is \\nyou have a whole URL let's say of a page . You like to assigned to that whole URL a number. \\nRather than that whole bunch of factors concatenated together call you would like to \\nassignment to a number. We talk of hashing, it's important to remember . This is a way to \\nassigned to objects integers and there are different types and there are different classes of \\nhashing functions and some of them are not very sophisticated or simple. To understand. \\nYou want to learn more about this. You have to like prime numbers.   They all have hashing functions. So if I was going to list the names of all you guys, it would \\nbe hard for me to remember all the names. I will apply a hashing and then each of you will \\nbecome a number. Then at some point in the class, and we may do this actually, we have a \\nspinning wheel and that spinning wheel will generate out of those numbers a random \\nnumber. I don't know who the person is . Mr. 175. Mr. 175 will be one of you and then you \\nwill be asked a question. It's a mechanism to treat data by mapping the data into numbers. \\nThese are hashing functions. And of course, there are certain conditions for individuals to \\nbe mapped to the same (Indiscernible) a lot about hashing functions. From your viewpoint, \\nyou just have to think that you have something like let's say ABC and you apply the hash \\nfunction, now what object is this now?  \\nThis is string ABC and you apply a hash function to it. What object is this now? Hash of ABC, \\nwhat is it? (Away From Mic). It's an integer . Now you can manipulate this integer anyway you want. So \\nthis is the way that strings are used . You don't have to understand what is inside the hash \\nfunction. You just have to understand that there is a mechanism in the language that \\nassigns to that object some integer. In this case this hash is applied to this very complicated \\nobject and this very complicated object after that is an integer. To conclude this part of the \\nclass, all these things (Microphone Interference) but you who like to build sets out of basic \\nobjects. Trusting. You can create a set by using this kind of parentheses, curly brackets if \\nyou want. Here it says 223 and you want a set out of it whereby definition sets cannot have \\nrepetitions. So when you apply this assignment and you want this to be a set call when you \\nput these curly brackets, automatically in the language the repetitions are ignored.  \\nSo There are two 2s and only 12 on the screen. This is as I said is 23, not to 23. Sets can \\nhave things of different types. For example you said two has this element or string three \\nstring two blah, blah, blah and these are the elements of the set. Be careful. This too is not \\nthis two. This two is the integer two. There's two is the string TWO. The restriction about \\nsets is you cannot have inside the set you cannot have a list as members of a set. So this is \\nnot good. You cannot say a set that has inside a list. Sets don't have order so they cannot \\nbe integers so you say set two bracket index . No, that cannot be done. About this is that \\nsets can be billed from any interable collection. You just have to bind the interable to this \\nparticular function SET . What is nice is it takes whatever you put here is an argument and it \\ncreates a set out of it. Let's look at examples.  \\nHere is a string and you put SET in front of it, this is going to create a set for you out of this. \\nIn this case, that set is LPEA. nevermind about the order. It depends on different \\nimplementations in the language but nevermind about that. The important thing is here \\nwith two P and only one P. When you apply SET to it because the particular elements of this \\nstring are separated and now you have a set consisting of all the characters that appear in \\nthat string. Look at this one. This is set and now you have 14321 and now you print it and \\nyou get 1234. Because this one is only one element Necessary. XY ectasy. X is repeated \\nhere so one element is printed. The thing to remember is this is a very powerful \\nconstruction. SET Makes a set out of any interable argument that you put down. Now there  are certain things that you can do to a set. You can test if an element is in the set. You can \\ncheck the length but you cannot index a set.  \\nYou cannot say give may the 17th element in your set. You can add elements to a set. For \\nexample, you have this assignment because this is this curly bracket saying this is a set. \\nYou store in A . Now you want to add an element to it. You take A, the element five and this \\nelement five gets added to the set. But if five is already in the set, that would not be added. \\nI'll give you examples of adding more things. The last example I want to mention is this \\none. This is extremely powerful . You have a set and now you want to apply the update \\nfunction to that set. You can put here as another argument any interable collection \\nwhether it's a string, list, tuple, another set, and what it will do is will take each element of \\nthat interable that you put here is an argument and add it to the sat. look at an example \\nhere.  \\nWe have set A with these integers and B and the second element is 3X and now you would \\nlike to update this. What happens? Anybody? Maybe this is simpler for you, the last one. \\nYou have A and you would like to update it with (Indiscernible) Z. A is that. Look what \\nhappens. This becomes that. This is that. This one is that one. B is that B. At some point, \\nyou updated that with five and the next time you updated that with AZ both this AZ is \\nbetween a and C and it's added. It's a little bit thought behind this so you need to \\nunderstand. You can remove elements from a set . That's very simple. The element is not in \\nthe set and you try to remove it, the language will tell you hey. you are trying to remove \\nsomething that is not there. if you want to be safe, instead of removing cow you can say \\ndiscard and if the element isn't there. don't give me an arrow.  \\nI Think this is a good time to stop and we'll finish dictionaries. One thing that I would like, \\nnext week we will be assigning to you your first group project, mini project. And you -- in \\norder for you to get ready for that, those of you that don't know how to set up your local \\nnotebook, there are no books that you can get on the cloud, but sometimes you would like \\nto have your own local notebook so the TA will be helping you with that in the recitation. \\nThe second item is that the first notebook that you will be creating for this class will be a \\nsimulation of a random walk . It doesn't sound very sophisticated. You will (Indiscernible) \\nand the TA will be teaching you how in about 15 or 20 lines of Python code you can \\nsimulate a random walk . What is a random walk in the (Indiscernible) now random you are \\ngoing to assign them to go up, left, right or down and actually you can print your random \\nwalk.  \\nYou Are interested in developing games, randomization is a very important element in \\ncreating games so we want you to develop your own notebook with your group to tackle \\nthings of this sort and this is gonna be covered in your recitation today. Yeah? (Away From Mic). (Indiscernible) We will have a (Indiscernible) session if you want to gain \\nsome points. So when you finish the quiz, go to (Indiscernible) and.[name?] Is going to put \\nthe information. First go to the quiz and when you finish the quiz, you are allowed to \\nparticipate in the exercise and you'll be able to gain some points. You should be doing the \\nquiz now by the way. All you have to do is type that URL to get to samurai (sp?) . Everybody  ready? You are going to have three-minute questions so you can get bonus. (Away From Mic). If you join in the chat, then you cannot participate. To join the bonus, \\nthat's the URL. It's a short link URL. It's the same as last time. (Away From Mic). We will tell you.  \\n(End Of Session) \""
      ]
     },
     "execution_count": 12,
     "metadata": {},
     "output_type": "execute_result"
    }
   ],
   "source": [
    "import re # if you don't know regular expressions, ignore this import, and use Python plain vanilla string methods\n",
    "\n",
    "def remove_speakers(text):\n",
    "    \"\"\"\n",
    "    Removes speaker names from the text\n",
    "    IN: text, str, text to remove speaker notations from\n",
    "    OUT: text, str, text without speaker notations\n",
    "    \"\"\"\n",
    "    # remove speaker notations\n",
    "    text = re.sub(r\"\\s*>> \\S+:\",\"\",text)\n",
    "\n",
    "    return text\n"
   ]
  },
  {
   "cell_type": "markdown",
   "metadata": {},
   "source": [
    "### Task 2 (20 pts): Natural Language Preprocessing"
   ]
  },
  {
   "cell_type": "markdown",
   "metadata": {},
   "source": [
    "In this task, you may use a Natural Language Processing module [`spaCy`](https://spacy.io/) to preprocess the text data.\n",
    "\n",
    "**Installation Instructions:**\n",
    "1. To install the spaCy module, open a terminal and run:\n",
    "   ```bash\n",
    "   pip install spacy\n",
    "   python -m spacy download en_core_web_sm\n",
    "    ```\n",
    "    If you are using Linux or MacOS, you may need to run `pip3` instead of `pip`, and `python3` instead of `python`."
   ]
  },
  {
   "cell_type": "markdown",
   "metadata": {},
   "source": [
    "#### 2.1 (6 pts): Split text into sentences."
   ]
  },
  {
   "cell_type": "markdown",
   "metadata": {},
   "source": [
    "Write a function `split_into_sentences(text)` that\n",
    "\n",
    "- **Input:** A string `text` that has been processed by the previous functions.\n",
    "- **Output:** A list of strings, where each string is a sentence.\n",
    "\n",
    "**Note:**\n",
    "\n",
    "- `spaCy` provides a sentence segmentation method that can be used to split the text into sentences. Below is an example of how to implement this functionality:\n",
    "\n",
    "  ```python\n",
    "  import spacy\n",
    "\n",
    "  nlp = spacy.load(\"en_core_web_sm\") # Load the English language model\n",
    "\n",
    "  text = \"This is a sentence. This is another sentence.\"\n",
    "  doc = nlp(text) # Process the input text\n",
    "\n",
    "  # Extract sentences from the processed document\n",
    "  sentences = [sent.text for sent in doc.sents]\n",
    "  print(sentences)\n",
    "  ```\n",
    "  The printed output will be \n",
    "  ```python\n",
    "  ['This is a sentence.', 'This is another sentence.']\n",
    "  ```"
   ]
  },
  {
   "cell_type": "code",
   "execution_count": 127,
   "metadata": {},
   "outputs": [],
   "source": [
    "import spacy\n",
    "\n",
    "nlp = spacy.load(\"en_core_web_sm\")\n",
    "\n",
    "def split_into_sentences(text):\n",
    "    \"\"\"\n",
    "    Splits text into sentences\n",
    "    IN: text, str, text to split into sentences\n",
    "    OUT: sentences, list[str], sentences in the text\n",
    "    \"\"\"\n",
    "    # join lines into a single paragraph\n",
    "    text = text.replace(\"\\n\", \" \")\n",
    "\n",
    "    # remove leading and trailing whitespaces in the text\n",
    "    \"\"\"__Your_Code_Here__\"\"\"\n",
    "\n",
    "    # use spaCy to split the text into sentences\n",
    "    \"\"\"__Your_Code_Here__\"\"\"\n",
    "\n",
    "    return sentences"
   ]
  },
  {
   "cell_type": "markdown",
   "metadata": {},
   "source": [
    "#### 2.2 (8 pts): Tokenize sentences and remove punctuations and spaces."
   ]
  },
  {
   "cell_type": "markdown",
   "metadata": {},
   "source": [
    "Write a function `tokenize_sentence(sentence)` that\n",
    "\n",
    "- **Input:** A string `sentence` that has been processed by the previous functions.\n",
    "- **Output:** A list of strings, where each string is a lemmatized token in the sentence.\n",
    "\n",
    "**Note:**\n",
    "\n",
    "- You can use the `spaCy` module to tokenize the sentence and remove punctuation and spaces. Below is an example demonstrating how to implement this functionality:\n",
    "\n",
    "  ```python\n",
    "  import spacy\n",
    "\n",
    "  nlp = spacy.load(\"en_core_web_sm\") # Load the English language model\n",
    "  \n",
    "  sentence = \"This is a sentence.\"\n",
    "  doc = nlp(sentence) # Process the input sentence\n",
    "\n",
    "  # Extract lemmatized tokens, excluding punctuation and spaces\n",
    "  tokens = [\n",
    "    token.lemma_ \n",
    "    for token in doc \n",
    "    if not token.is_punct and not token.is_space\n",
    "  ]\n",
    "  print(tokens)\n",
    "  ```\n",
    "  The printed output will be \n",
    "  ```python\n",
    "  ['this', 'be', 'a', 'sentence']\n",
    "  ```\n"
   ]
  },
  {
   "cell_type": "code",
   "execution_count": 128,
   "metadata": {},
   "outputs": [],
   "source": [
    "import spacy\n",
    "\n",
    "nlp = spacy.load(\"en_core_web_sm\")\n",
    "\n",
    "def tokenize_sentence(sentence):\n",
    "    \"\"\"\n",
    "    Tokenizes sentence into lemmatized words\n",
    "    IN: sentence, str, sentence to tokenize\n",
    "    OUT: tokenized_sentence, list[str], tokenized sentences\n",
    "    \"\"\"\n",
    "    # use spaCy to tokenize the sentence into lemmatized words\n",
    "    \"\"\"__Your_Code_Here__\"\"\"\n",
    "    return tokenized_sentence"
   ]
  },
  {
   "cell_type": "markdown",
   "metadata": {},
   "source": [
    "#### 2.3 (6 pts): Remove stopwords."
   ]
  },
  {
   "cell_type": "markdown",
   "metadata": {},
   "source": [
    "Write a function `remove_stopwords(tokens)` that\n",
    "\n",
    "- **Input:** A list of strings `tokens` that have been processed by the previous functions.\n",
    "- **Output:** A filtered list of strings that does not contain stopwords.\n",
    "\n",
    "**Note:**\n",
    "\n",
    "- You can use the `spaCy` module to remove the stopwords. Below is an example demonstrating how to implement this functionality, including adding an additional stopword \"blah\":\n",
    "\n",
    "  ```python\n",
    "  import spacy\n",
    "\n",
    "  nlp = spacy.load(\"en_core_web_sm\") # Load the English language model\n",
    "\n",
    "  nlp.Defaults.stop_words.add(\"blah\") # Add an additional stopword \"blah\"\n",
    "\n",
    "  tokens = [\"this\", \"be\", \"a\", \"sentence\"]\n",
    "\n",
    "  # Filter out stopwords from the tokens list\n",
    "  tokens = [token for token in tokens if not nlp.vocab[token].is_stop]\n",
    "  print(tokens)\n",
    "  ```\n",
    "  The printed output will be \n",
    "  ```python\n",
    "  ['sentence']\n",
    "  ```"
   ]
  },
  {
   "cell_type": "code",
   "execution_count": 129,
   "metadata": {},
   "outputs": [],
   "source": [
    "import spacy\n",
    "\n",
    "nlp = spacy.load(\"en_core_web_sm\")\n",
    "nlp.Defaults.stop_words.add(\"blah\")\n",
    "\n",
    "def remove_stopwords(tokens):\n",
    "    \"\"\"\n",
    "    Removes stopwords from tokens\n",
    "    IN: tokens, list[str], tokens to remove stopwords from\n",
    "    OUT: tokens, list[str], tokens with stopwords removed\n",
    "    \"\"\"\n",
    "    # use spaCy to remove stopwords\n",
    "    \"\"\"__Your_Code_Here__\"\"\"\n",
    "    return tokens"
   ]
  },
  {
   "cell_type": "markdown",
   "metadata": {},
   "source": [
    "### Task 3 (5 pts): Save the cleaned text"
   ]
  },
  {
   "cell_type": "markdown",
   "metadata": {},
   "source": [
    "#### 3.1 (5 pts): Save the processed text as a csv file."
   ]
  },
  {
   "cell_type": "markdown",
   "metadata": {},
   "source": [
    "Write a function `save_as_csv(process_text, file_path)` that\n",
    "\n",
    "- **Input 1:** A list of lists of strings `processed_text`, where each inner list contains the processed tokens of a sentence in a lecture transcript.\n",
    "- **Input 2:** A string `file_path` that specifies the path to save the CSV file.\n",
    "- **Write** the processed text to a CSV file at the specified `file_path`."
   ]
  },
  {
   "cell_type": "code",
   "execution_count": 13,
   "metadata": {},
   "outputs": [],
   "source": [
    "import csv\n",
    "\n",
    "def save_as_csv(process_text, file_path):\n",
    "    \"\"\"\n",
    "    Saves processed text to a CSV file\n",
    "    IN: process_text, list[list[str]], processed text of a lecture transcript to save to a CSV file\n",
    "        file_path, str, path to the CSV file\n",
    "    OUT: None\n",
    "    \"\"\"\n",
    "    # write the processed text to a CSV file\n",
    "    with open(file_path,'w') as file:\n",
    "        for sentence in process_text:\n",
    "            temp = \" \".join(sentence)\n",
    "            file.write(temp)\n",
    "\n"
   ]
  },
  {
   "cell_type": "markdown",
   "metadata": {},
   "source": [
    "### Task 4 (45 pts): Word Frequency Analysis"
   ]
  },
  {
   "cell_type": "markdown",
   "metadata": {},
   "source": [
    "#### 4.1 (10 pts): Compute the cumulative word frequency."
   ]
  },
  {
   "cell_type": "markdown",
   "metadata": {},
   "source": [
    "Write a function `update_word_frequency(processed_text, cumulated_frequency)` that\n",
    "\n",
    "- **Input 1:** A list of lists of strings `processed_text`, where each inner list contains the processed tokens of a sentence in a lecture transcript.\n",
    "- **Input 2:** A dictionary `cumulated_frequency` that stores the cumulated word frequency up to now. By default, `cumulated_frequency` is an empty dictionary."
   ]
  },
  {
   "cell_type": "code",
   "execution_count": 131,
   "metadata": {},
   "outputs": [],
   "source": [
    "from collections import Counter # if you don't know Counter, ignore this import. Recall Counter is a subclass of dict\n",
    "\n",
    "def update_word_frequency(processed_text, cumulated_frequency=None):\n",
    "    \"\"\"\n",
    "    Updates the cumulated word frequency with the frequency in the processed text\n",
    "    IN: processed_text, list[list[str]], processed text to count word frequency\n",
    "        cumulated_frequency, dict{str: int}, cumulated word frequency\n",
    "    OUT: cumulated_frequency, dict{str: int}, cumulated word frequency\n",
    "    \"\"\"\n",
    "    # if cumulated_frequency is not provided, initialize it\n",
    "    \"\"\"__Your_Code_Here__\"\"\"\n",
    "\n",
    "    # update the cumulated frequency with the frequency in each sentence\n",
    "    \"\"\"__Your_Code_Here__\"\"\"\n",
    "\n",
    "    return cumulated_frequency"
   ]
  },
  {
   "cell_type": "markdown",
   "metadata": {},
   "source": [
    "#### 4.2 (5 pts): Plot the word frequency as a histogram."
   ]
  },
  {
   "cell_type": "markdown",
   "metadata": {},
   "source": [
    "Write a function `plot_word_frequency_dist(cumulated_frequency)` that\n",
    "\n",
    "- **Input:** A dictionary `cumulated_frequency` that stores the cumulated word frequency.\n",
    "- Plot the word frequency as a histogram.\n",
    "\n",
    "Note:\n",
    "\n",
    "- This function plots a histogram where the x-axis represents the word frequency, and the y-axis represents the number of words that appear with the corresponding frequency.\n",
    "- You may use the `matplotlib` module to create the histogram. If you haven't installed it yet, you can do so by running the following command in your terminal:\n",
    "  ```bash\n",
    "  pip install matplotlib\n",
    "  ```\n",
    "- To plot a histogram, you may use the plt.hist() function, which takes a list of values as input.\n",
    "\n",
    "  ```python\n",
    "  import matplotlib.pyplot as plt\n",
    "  values = [1, 1, 1, 2, 3, 3, 3, 3, 3, 4, 4, 5]\n",
    "  plt.hist(values)\n",
    "  plt.show()\n",
    "  ```"
   ]
  },
  {
   "cell_type": "code",
   "execution_count": 132,
   "metadata": {},
   "outputs": [],
   "source": [
    "import matplotlib.pyplot as plt\n",
    "\n",
    "def plot_word_frequency_dist(cumulated_frequency):\n",
    "    \"\"\"\n",
    "    Plots word frequency\n",
    "    IN: cumulated_frequency, dict{str: int}, cumulated word frequency\n",
    "    OUT: None\n",
    "    \"\"\"\n",
    "    # plot the word frequency distribution\n",
    "    \"\"\"__Your_Code_Here__\"\"\"\n",
    "    \n",
    "\n",
    "    plt.xlabel(\"Word Frequency\")\n",
    "    plt.ylabel(\"Num of Words\")\n",
    "    plt.title(\"Word Frequency Distribution\")\n",
    "    plt.show()"
   ]
  },
  {
   "cell_type": "markdown",
   "metadata": {},
   "source": [
    "#### 4.3 (5 pts): Sort the words by frequency."
   ]
  },
  {
   "cell_type": "markdown",
   "metadata": {},
   "source": [
    "Write a function `sort_words_by_frequency(cumulated_frequency)` that\n",
    "\n",
    "- **Input:** A dictionary `cumulated_frequency` that stores the cumulated word frequency.\n",
    "- **Output:** A list of tuples, where each tuple contains a word and its frequency, sorted by frequency in non-ascending order. If two words have the same frequency, they are sorted in alphabetical non-descending order."
   ]
  },
  {
   "cell_type": "code",
   "execution_count": 133,
   "metadata": {},
   "outputs": [],
   "source": [
    "def sort_words_by_frequency(cumulated_frequency):\n",
    "    \"\"\"\n",
    "    Sorts words by frequency\n",
    "    IN: cumulated_frequency, dict{str: int}, cumulated word frequency\n",
    "    OUT: sorted_word_frequencies, list[tuple(str, int)], sorted words by frequency\n",
    "    \"\"\"\n",
    "    # sort the words by frequency, breaking ties by word alphabetical order\n",
    "    \"\"\"__Your_Code_Here__\"\"\"\n",
    "    return sorted_words"
   ]
  },
  {
   "cell_type": "markdown",
   "metadata": {},
   "source": [
    "#### 4.4 (10 pts): Bucket the words by frequency using mean and standard deviation."
   ]
  },
  {
   "cell_type": "markdown",
   "metadata": {},
   "source": [
    "#### 4.4.1 (3 pts): Find the mean and standard deviation of the word frequency."
   ]
  },
  {
   "cell_type": "markdown",
   "metadata": {},
   "source": [
    "Write a function `find_mean_and_std(sorted_word_frequencies)` that\n",
    "\n",
    "- **Input:** A sorted list of tuples `sorted_word_frequencies` consisting of words and their frequencies.\n",
    "- **Output:** A tuple `(mean, std)` where `mean` is the average of the word frequencies and `std` is the standard deviation of the word frequencies.\n",
    "\n",
    "#### Formulas:\n",
    "- Mean: \n",
    "  $$\n",
    "  \\bar{f} = \\frac{\\sum_{i=1}^{n} f_i}{n}\n",
    "  $$\n",
    "  where $f_i$ is the frequency of the $i$-th word and $n$ is the number of words.\n",
    "\n",
    "- Standard Deviation: \n",
    "  $$\n",
    "  \\sigma = \\sqrt{\\frac{\\sum_{i=1}^{n} (f_i - \\bar{f})^2}{n}}\n",
    "  $$\n",
    "  where $f_i$ is the frequency of the $i$-th word, $\\bar{f}$ is the mean of the word frequency, and $n$ is the number of words.\n"
   ]
  },
  {
   "cell_type": "code",
   "execution_count": 134,
   "metadata": {},
   "outputs": [],
   "source": [
    "def find_mean_and_std(sorted_word_frequencies):\n",
    "    \"\"\"\n",
    "    Finds mean and standard deviation of word frequency\n",
    "    IN: sorted_word_frequencies, list[tuple(str, int)], sorted words by frequency\n",
    "    OUT: mean, float, mean of word frequency\n",
    "         std, float, standard deviation of word frequency\n",
    "    \"\"\"\n",
    "    # access all the frequencies\n",
    "    \"\"\"__Your_Code_Here__\"\"\"\n",
    "\n",
    "    # calculate the mean\n",
    "    \"\"\"__Your_Code_Here__\"\"\"\n",
    "\n",
    "    # calculate the standard deviation\n",
    "    \"\"\"__Your_Code_Here__\"\"\"\n",
    "    \n",
    "    return mean, std"
   ]
  },
  {
   "cell_type": "markdown",
   "metadata": {},
   "source": [
    "##### 4.4.2 (3 pts): Bucket a value by the mean and standard deviation."
   ]
  },
  {
   "cell_type": "markdown",
   "metadata": {},
   "source": [
    "Write a function `bucket_value_by_mean_std(value, mean, std)` that\n",
    "\n",
    "- **Input 1:** A number `value` representing the frequency of a word.\n",
    "- **Input 2:** A float `mean` representing the mean of the word frequency.\n",
    "- **Input 3:** A float `std` representing the standard deviation of the word frequency.\n",
    "- **Output:** An integer representing the bucket index of the word frequency.\n",
    "\n",
    "**Formula:**\n",
    "The bucket index can be calculated using the formula:\n",
    "$$\n",
    "b = \\left\\lfloor \\frac{f - \\bar{f}}{\\sigma} \\right\\rfloor\n",
    "$$\n",
    "where:\n",
    "- $f$ is the frequency of the word,\n",
    "- $\\bar{f}$ is the mean of the word frequency,\n",
    "- $\\sigma$ is the standard deviation of the word frequency,\n",
    "- $\\lfloor \\cdot \\rfloor$ is the floor function."
   ]
  },
  {
   "cell_type": "code",
   "execution_count": 135,
   "metadata": {},
   "outputs": [],
   "source": [
    "import math\n",
    "\n",
    "def bucket_value_by_mean_std(value, mean, std):\n",
    "    \"\"\"\n",
    "    Buckets value by mean and standard deviation\n",
    "    IN: value, int | float, value from a distribution to bucket\n",
    "        mean, float, mean of the distribution\n",
    "        std, float, standard deviation of the distribution\n",
    "    OUT: bucket_idx, int, bucket index\n",
    "    \"\"\"\n",
    "    # calculate the bucket index\n",
    "    \"\"\"__Your_Code_Here__\"\"\"\n",
    "    \n",
    "    return bucket_idx"
   ]
  },
  {
   "cell_type": "markdown",
   "metadata": {},
   "source": [
    "##### 4.4.3 (4 pts): Find the bucket index of each word."
   ]
  },
  {
   "cell_type": "markdown",
   "metadata": {},
   "source": [
    "Write a function `find_bucket_index_of_words(sorted_word_frequencies)` that\n",
    "\n",
    "- **Input:** A sorted list of tuples `sorted_word_frequencies` consisting of words and their frequencies.\n",
    "- **Output:** A list of dictionaries, where each dictionary contains three key-value pairs:\n",
    "  - `word`: the word from the input list.\n",
    "  - `frequency`: the frequency of the word.\n",
    "  - `bucket`: the bucket index of the word frequency."
   ]
  },
  {
   "cell_type": "code",
   "execution_count": 136,
   "metadata": {},
   "outputs": [],
   "source": [
    "def find_bucket_index_of_words(sorted_word_frequencies):\n",
    "    \"\"\"\n",
    "    Finds bucket index of words by mean and standard deviation\n",
    "    IN: sorted_word_frequencies, list[tuple(str, int)], sorted words by frequency\n",
    "    OUT: sorted_word_info, list[dict{\"word\": str, \"frequency\": int, \"bucket\": int}], words with frequency and bucket index\n",
    "    \"\"\"\n",
    "    # find the mean and standard deviation of the word frequencies\n",
    "    \"\"\"__Your_Code_Here__\"\"\"\n",
    "\n",
    "    # collect the words with their frequency and bucket index\n",
    "    sorted_word_info = []\n",
    "    for word, freq in sorted_word_frequencies:\n",
    "        \"\"\"__Your_Code_Here__\"\"\"\n",
    "\n",
    "    return sorted_word_info\n"
   ]
  },
  {
   "cell_type": "markdown",
   "metadata": {},
   "source": [
    "#### 4.5 (5 pts): Save the word information as a JSON file."
   ]
  },
  {
   "cell_type": "markdown",
   "metadata": {},
   "source": [
    "Write a function `save_as_json(sorted word_info, file_path)` that\n",
    "\n",
    "- **Input 1:** A sorted list of dictionaries `sorted_word_info` that contains frequency and bucket information of each word.\n",
    "- **Input 2:** A string `file_path` that specifies the path to save the JSON file.\n",
    "- **Write** the word information as a JSON file."
   ]
  },
  {
   "cell_type": "code",
   "execution_count": 137,
   "metadata": {},
   "outputs": [],
   "source": [
    "import json\n",
    "\n",
    "def save_as_json(sorted_word_info, file_path):\n",
    "    \"\"\"\n",
    "    Saves word info to a JSON file\n",
    "    IN: sorted_word_info, list[dict{\"word\": str, \"frequency\": int, \"bucket\": int}], words with frequency and bucket index\n",
    "        file_path, str, path to the JSON file\n",
    "    OUT: None\n",
    "    \"\"\"\n",
    "    # write the word info to a JSON file\n",
    "    \"\"\"__Your_Code_Here__\"\"\""
   ]
  },
  {
   "cell_type": "markdown",
   "metadata": {},
   "source": [
    "#### 4.6 (10 pts): Plot stacked word frequency bar chart."
   ]
  },
  {
   "cell_type": "markdown",
   "metadata": {},
   "source": [
    "Write a function `plot_stacked_word_frequency(word_frequencies_list, sorted_words)` that\n",
    "\n",
    "- **Input 1:** A list of dictionaries `word_frequencies_list`. Each dictionary contains the cumulated word frequency up to a certain lecture transcript. \n",
    "  \n",
    "  The first dictionary contains the word frequency of the first lecture transcript, the second dictionary contains the cumulated word frequency of the first and second lecture transcripts, and so on.\n",
    "- **Input 2:** A list of tuples `sorted_words` that contains the words sorted by frequency.\n",
    "- **Plot** the word frequency as a stacked bar chart.\n",
    "\n",
    "Note:\n",
    "\n",
    "- A stacked bar chart uses bars to show comparisons between categories of data, with the ability to break down and compare parts of a whole. In this task:\n",
    "  - The x-axis represents the words.\n",
    "  - The y-axis represents the word frequency.\n",
    "  - Bars are sorted using the order of `sorted_words`.\n",
    "- You may use the `matplotlib` module to plot the stacked bar chart. The following code snippet demonstrates how to create a stacked bar chart using the `plt.bar()` function.\n",
    "\n",
    "  ```python\n",
    "  import matplotlib.pyplot as plt\n",
    "  \n",
    "  cmap = plt.get_cmap(\"viridis_r\")  # use colormap for coloring the bars\n",
    "  \n",
    "  words = [\"apple\", \"banana\", \"cherry\"]  # list all words used in x-axis\n",
    "  frequencies_list = [  # list of cumulated word frequencies\n",
    "      [1, 3, 0],  # frequencies in document 1\n",
    "      [3, 3, 3],  # frequencies in document 1 and 2\n",
    "      [6, 5, 3],  # frequencies in document 1, 2, and 3\n",
    "  ]\n",
    "  \n",
    "  for i, frequencies in reversed(list(enumerate(frequencies_list))):  # plot in reverse order, so the earlier one is on top\n",
    "      plt.bar(\n",
    "          words, # x-axis, words\n",
    "          frequencies, # y-axis, cumulated frequencies\n",
    "          color=cmap(i / (len(frequencies_list) - 1)), # color the bars\n",
    "          label=f\"Up to Document {i+1}\", # label the part of the bar\n",
    "      )\n",
    "  \n",
    "  plt.xlabel(\"Words\")\n",
    "  plt.xticks(rotation=90) # rotate the x-axis labels for better readability\n",
    "  plt.ylabel(\"Frequency\")\n",
    "  plt.title(\"Word Frequency in Documents\")\n",
    "  plt.legend()\n",
    "  \n",
    "  plt.show()\n",
    "  ```"
   ]
  },
  {
   "cell_type": "code",
   "execution_count": 138,
   "metadata": {},
   "outputs": [],
   "source": [
    "import matplotlib.pyplot as plt\n",
    "\n",
    "def plot_stacked_word_frequency(word_frequencies_list, sorted_words):\n",
    "    \"\"\"\n",
    "    Plots stacked word frequency\n",
    "    IN: word_frequencies_list, list[dict{str: int}], word frequencies to plot\n",
    "        sorted_words, list[tuple(str, int)], sorted words by frequency\n",
    "    OUT: None\n",
    "    \"\"\"\n",
    "    # set up color map\n",
    "    cmp = plt.get_cmap(\"viridis_r\")\n",
    "\n",
    "    # get words and frequencies\n",
    "    \"\"\"__Your_Code_Here__\"\"\"\n",
    "\n",
    "    # plot the stacked word frequency\n",
    "    \"\"\"__Your_Code_Here__\"\"\"\n",
    "\n",
    "    plt.xlabel(\"Words\")\n",
    "    plt.xticks(rotation=90)\n",
    "    plt.ylabel(\"Frequency\")\n",
    "    plt.title(\"Stacked Word Frequency\")\n",
    "    plt.legend(loc='center left', bbox_to_anchor=(1, 0.5)) # move the legend to the right to avoid overlapping with the bars\n",
    "    plt.show()"
   ]
  },
  {
   "cell_type": "markdown",
   "metadata": {},
   "source": [
    "### Call of functions for testing purposes"
   ]
  },
  {
   "cell_type": "code",
   "execution_count": null,
   "metadata": {},
   "outputs": [],
   "source": [
    "if __name__ == \"__main__\":\n",
    "    # this block of code is executed when directly running the script, not when importing the script as a module\n",
    "    \"\"\"\n",
    "    Feel free to modify the code inside this if block to test your functions\n",
    "    \"\"\"\n",
    "    word_frequencies_list = []\n",
    "    cumulated_frequency = None\n",
    "    for i in range(1, 13):\n",
    "        fileName = f'./data/transcript {i}.pdf'\n",
    "        print(f\"Processing {fileName}\")\n",
    "\n",
    "        # extract text from the PDF file\n",
    "        text = extract_pdf_text(fileName)\n",
    "        text = remove_headers(text)\n",
    "        text = remove_parentheses(text)\n",
    "        text = remove_speakers(text)\n",
    "\n",
    "        # natural language preprocessing\n",
    "        sentences = split_into_sentences(text)\n",
    "        processed_text = []\n",
    "        for sentence in sentences:\n",
    "            tokens = tokenize_sentence(sentence)\n",
    "            tokens = remove_stopwords(tokens)\n",
    "            processed_text.append(tokens)\n",
    "\n",
    "        # update count of word frequency\n",
    "        cumulated_frequency = update_word_frequency(processed_text, cumulated_frequency)\n",
    "        word_frequencies_list.append(cumulated_frequency.copy())\n",
    "\n",
    "    # plot the word final cumulative frequency distribution\n",
    "    plot_word_frequency_dist(word_frequencies_list[-1])\n",
    "\n",
    "    # sort words by final cumulative frequency\n",
    "    sorted_words = sort_words_by_frequency(word_frequencies_list[-1])\n",
    "\n",
    "    # find bucket index of all words\n",
    "    sorted_word_info = find_bucket_index_of_words(sorted_words)\n",
    "\n",
    "    # take words whose bucket index >= 5 (i.e. frequency >= mean + 5 * std)\n",
    "    filtered_words = [(info['word'], info['frequency']) for info in sorted_word_info if info['bucket'] >= 5]\n",
    "\n",
    "    # plot stacked word frequency\n",
    "    plot_stacked_word_frequency(word_frequencies_list, filtered_words)\n",
    "    "
   ]
  }
 ],
 "metadata": {
  "kernelspec": {
   "display_name": "Python 3",
   "language": "python",
   "name": "python3"
  },
  "language_info": {
   "codemirror_mode": {
    "name": "ipython",
    "version": 3
   },
   "file_extension": ".py",
   "mimetype": "text/x-python",
   "name": "python",
   "nbconvert_exporter": "python",
   "pygments_lexer": "ipython3",
   "version": "3.9.6"
  }
 },
 "nbformat": 4,
 "nbformat_minor": 2
}
