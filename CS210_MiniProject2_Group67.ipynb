{
 "cells": [
  {
   "cell_type": "markdown",
   "metadata": {},
   "source": [
    "## Mini Project 2\n",
    "\n",
    "## Lecture Transcript Word Frequency Analysis\n",
    "\n",
    "## 100 Points."
   ]
  },
  {
   "cell_type": "markdown",
   "metadata": {},
   "source": [
    "```mermaid\n",
    "graph TB\n",
    "    \n",
    "EPT[\"1.1<br>extract_pdf_text\"]\n",
    "RH[\"1.2<br>remove_headers\"]\n",
    "RP[\"1.3<br>remove_parentheses\"]\n",
    "RS[\"1.4<br>remove_speakers\"]\n",
    "\n",
    "SIS[\"2.1<br>split_into_sentences\"]\n",
    "TS[\"2.2<br>tokenize_sentence\"]\n",
    "RSW[\"2.3<br>remove_stopwords\"]\n",
    "\n",
    "SAC[\"3.1<br>save_as_csv\"]\n",
    "\n",
    "CWF[\"4.1<br>update_word_frequency\"]\n",
    "PWFD[\"4.2<br>plot_word_frequency_dist\"]\n",
    "SWBF[\"4.3<br>sort_words_by_frequency\"]\n",
    "FBIOW[\"4.4<br>find_bucket_index_of_words\"]\n",
    "SAJ[\"4.5<br>save_as_json\"]\n",
    "PSWF[\"4.6<br>plot_stacked_word_frequency\"]\n",
    "\n",
    "EPT --> RH\n",
    "RH --> RP\n",
    "RP --> RS\n",
    "\n",
    "RS --> SIS\n",
    "SIS --> TS\n",
    "TS --> RSW\n",
    "\n",
    "RSW --> SAC\n",
    "\n",
    "RSW --> CWF\n",
    "CWF --> PWFD\n",
    "CWF --> SWBF\n",
    "SWBF --> FBIOW\n",
    "\n",
    "FBIOW --> SAJ\n",
    "\n",
    "FBIOW --> PSWF\n",
    "CWF --> PSWF\n",
    "\n",
    "subgraph \"Extract Text Contents\"\n",
    "    EPT\n",
    "    RH\n",
    "    RP\n",
    "    RS\n",
    "end\n",
    "\n",
    "subgraph \"Natural Language Preprocessing\"\n",
    "    SIS\n",
    "    TS\n",
    "    RSW\n",
    "end\n",
    "\n",
    "subgraph \"Save the Cleaned Text\"\n",
    "    SAC\n",
    "end\n",
    "\n",
    "subgraph \"Word Frequency Analysis\"\n",
    "    CWF\n",
    "    PWFD\n",
    "    SWBF\n",
    "    FBIOW\n",
    "    SAJ\n",
    "    PSWF\n",
    "end\n",
    "```"
   ]
  },
  {
   "cell_type": "markdown",
   "metadata": {},
   "source": [
    "### Task 1 (30 pts): Extract text contents"
   ]
  },
  {
   "cell_type": "markdown",
   "metadata": {},
   "source": [
    "#### 1.1 (5 pts): Extract the text from a PDF file."
   ]
  },
  {
   "cell_type": "markdown",
   "metadata": {},
   "source": [
    "Write a function `extract_pdf_text(file_path)` that:\n",
    "\n",
    "- **Input:** A string `file_path` specifying the path to a PDF file.\n",
    "- **Output:** A string containing all the text extracted from the PDF file.\n",
    "\n",
    "**Note:**\n",
    "- For this task, you may use the [`pypdf` module](https://github.com/py-pdf/pypdf) to extract text from the PDF file.\n",
    "  - To install the module, open a terminal and run \n",
    "  ```bash\n",
    "  pip install pypdf\n",
    "  ```\n",
    "  If you are using Linux or MacOS, you may need to run `pip3` instead of `pip`.\n",
    "- Join the text from different pages with a space."
   ]
  },
  {
   "cell_type": "code",
   "execution_count": 188,
   "metadata": {},
   "outputs": [],
   "source": [
    "from pypdf import PdfReader\n",
    "\n",
    "def extract_pdf_text(file_path):\n",
    "    \"\"\"\n",
    "    Extracts text from a PDF file as a string\n",
    "    IN: file_path, str, path to the PDF file\n",
    "    OUT: text, str, extracted text from all pages joined together with whitespaces\n",
    "    \"\"\"\n",
    "    # create a reader to read the PDF file\n",
    "    reader = PdfReader(file_path)\n",
    "\n",
    "    text_list = [] # list to collect text from each page\n",
    "    for page in reader.pages:\n",
    "        # extract text from the page\n",
    "        page_text = page.extract_text() \n",
    "        # append the text to the list\n",
    "        text_list.append(page_text)\n",
    "\n",
    "    # join the text from all pages with whitespaces\n",
    "    text = ' '.join(text_list)\n",
    "    return text"
   ]
  },
  {
   "cell_type": "markdown",
   "metadata": {},
   "source": [
    "#### 1.2 (7 pts): Remove headers."
   ]
  },
  {
   "cell_type": "markdown",
   "metadata": {},
   "source": [
    "Write a function `remove_headers(text)` that:\n",
    "\n",
    "- **Input:** A string `text` extracted from the PDF file.\n",
    "- **Output:** A string that does not contain the header texts.\n",
    "\n",
    "**Note:**\n",
    "- Some lecture transcripts may contain a header with the service name \"StreamBox\" on the first page. Remove it if it is present. See `transcript 1.pdf` for an example.\n",
    "- Some lecture transcripts may start with a Disclaimer. Remove all the text enclosed by `**********DISCLAIMER**********` (included). See `transcript 4.pdf` for an example.\n"
   ]
  },
  {
   "cell_type": "code",
   "execution_count": 189,
   "metadata": {},
   "outputs": [],
   "source": [
    "def remove_headers(text):\n",
    "    \"\"\"\n",
    "    Removes headers from the text\n",
    "    IN: text, str, text to remove headers from\n",
    "    OUT: text, str, text with headers removed\n",
    "    \"\"\"\n",
    "    # if there is any leading \"StreamBox\", remove it\n",
    "    if text[:9] == 'StreamBox':\n",
    "        text = text.replace(\"StreamBox\",\"\",1)\n",
    "\n",
    "    # if there is any **********DISCLAIMER**********, find the matched end, and remove it\n",
    "    firstI = text.find(\"**********DISCLAIMER**********\")\n",
    "    if(firstI != -1):\n",
    "        secondI = text.find(\"**********DISCLAIMER**********\",firstI)\n",
    "        text = text[secondI + len(\"**********DISCLAIMER**********\"):]\n",
    "    return text\n"
   ]
  },
  {
   "cell_type": "markdown",
   "metadata": {},
   "source": [
    "#### 1.3 (10 pts): Remove transcription system notes enclosed by parentheses."
   ]
  },
  {
   "cell_type": "markdown",
   "metadata": {},
   "source": [
    "Write a function `remove_parentheses(text)` that:\n",
    "\n",
    "- **Input:** A string `text` that has been processed by the previous functions.\n",
    "- **Output:** A string that does not contain the transcription system notes enclosed by parentheses.\n",
    "\n",
    "**Note:**\n",
    "- Some lecture transcripts use parentheses to provide additional information about the transcription system. Remove all the text enclosed by parentheses. For example, `[Captioner standing by]` in `transcript 1.pdf`.\n",
    "- There are NO nested parentheses in the lecture transcripts.\n",
    "- The parentheses may either be round parentheses `()` or square parentheses `[]`.\n",
    "- Some parentheses may be followed immediately by a period. For example, `(Away From Mic).` in `transcript 4.pdf`. In this case, you should remove the period as well.\n",
    "- You are welcome to use regular expressions to solve this task, but it is not required. You can use Python built-in string methods to achieve the same result.\n"
   ]
  },
  {
   "cell_type": "code",
   "execution_count": 190,
   "metadata": {},
   "outputs": [],
   "source": [
    "import re # if you don't know regular expressions, ignore this import, and use Python plain vanilla string methods\n",
    "\n",
    "def remove_parentheses(text):\n",
    "    \"\"\"\n",
    "    Removes text within parentheses\n",
    "    IN: text, str, text to remove notes enclosed in parentheses\n",
    "    OUT: text, str, text without parentheses notes\n",
    "    \"\"\"\n",
    "    # remove round parentheses () and the text within them. If there is a trailing period, remove it as well\n",
    "    while(text.find('(') != -1):\n",
    "        index = text.find('(')\n",
    "        sindex = text.find(')',index)\n",
    "        if(text[sindex+1] == '.'):\n",
    "            sindex = sindex +1\n",
    "        text = text[:index-1] + text[sindex +1:]\n",
    "\n",
    "    # remove square parentheses [] and the text within them. If there is a trailing period, remove it as well\n",
    "    while(text.find('[') != -1):\n",
    "        index = text.find('[')\n",
    "        sindex = text.find(']',index)\n",
    "        if(text[sindex+1] == '.'):\n",
    "            sindex = sindex +1\n",
    "        text = text[:index-1] + text[sindex+ 1:]\n",
    "\n",
    "    return text"
   ]
  },
  {
   "cell_type": "markdown",
   "metadata": {},
   "source": [
    "#### 1.4 (8 pts): Remove speaker notations."
   ]
  },
  {
   "cell_type": "markdown",
   "metadata": {},
   "source": [
    "Write a function `remove_speakers(text)` that:\n",
    "\n",
    "- **Input:** A string `text` that has been processed by the previous functions.\n",
    "- **Output:** A string that does not contain the speaker notations.\n",
    "\n",
    "**Note:**\n",
    "- Speaker notations start with two greater-than symbols `>>`, followed by the speaker's name in uppercase letters, and end with a colon `:`. For example, `>> INSTRUCTOR:`.\n",
    "- `>>` symbols are used only for speaker notations and NOT for any other purposes.\n",
    "- You are welcome to use regular expressions to solve this task, but it is not required. You can use Python built-in string methods to achieve the same result."
   ]
  },
  {
   "cell_type": "code",
   "execution_count": 191,
   "metadata": {},
   "outputs": [],
   "source": [
    "import re # if you don't know regular expressions, ignore this import, and use Python plain vanilla string methods\n",
    "\n",
    "def remove_speakers(text):\n",
    "    \"\"\"\n",
    "    Removes speaker names from the text\n",
    "    IN: text, str, text to remove speaker notations from\n",
    "    OUT: text, str, text without speaker notations\n",
    "    \"\"\"\n",
    "    # remove speaker notations\n",
    "    text = re.sub(r\"\\s*>> \\S+:\",\"\",text)\n",
    "\n",
    "    return text\n"
   ]
  },
  {
   "cell_type": "markdown",
   "metadata": {},
   "source": [
    "### Task 2 (20 pts): Natural Language Preprocessing"
   ]
  },
  {
   "cell_type": "markdown",
   "metadata": {},
   "source": [
    "In this task, you may use a Natural Language Processing module [`spaCy`](https://spacy.io/) to preprocess the text data.\n",
    "\n",
    "**Installation Instructions:**\n",
    "1. To install the spaCy module, open a terminal and run:\n",
    "   ```bash\n",
    "   pip install spacy\n",
    "   python -m spacy download en_core_web_sm\n",
    "    ```\n",
    "    If you are using Linux or MacOS, you may need to run `pip3` instead of `pip`, and `python3` instead of `python`."
   ]
  },
  {
   "cell_type": "markdown",
   "metadata": {},
   "source": [
    "#### 2.1 (6 pts): Split text into sentences."
   ]
  },
  {
   "cell_type": "markdown",
   "metadata": {},
   "source": [
    "Write a function `split_into_sentences(text)` that\n",
    "\n",
    "- **Input:** A string `text` that has been processed by the previous functions.\n",
    "- **Output:** A list of strings, where each string is a sentence.\n",
    "\n",
    "**Note:**\n",
    "\n",
    "- `spaCy` provides a sentence segmentation method that can be used to split the text into sentences. Below is an example of how to implement this functionality:\n",
    "\n",
    "  ```python\n",
    "  import spacy\n",
    "\n",
    "  nlp = spacy.load(\"en_core_web_sm\") # Load the English language model\n",
    "\n",
    "  text = \"This is a sentence. This is another sentence.\"\n",
    "  doc = nlp(text) # Process the input text\n",
    "\n",
    "  # Extract sentences from the processed document\n",
    "  sentences = [sent.text for sent in doc.sents]\n",
    "  print(sentences)\n",
    "  ```\n",
    "  The printed output will be \n",
    "  ```python\n",
    "  ['This is a sentence.', 'This is another sentence.']\n",
    "  ```"
   ]
  },
  {
   "cell_type": "code",
   "execution_count": 192,
   "metadata": {},
   "outputs": [],
   "source": [
    "import spacy\n",
    "\n",
    "nlp = spacy.load(\"en_core_web_sm\")\n",
    "\n",
    "def split_into_sentences(text):\n",
    "    \"\"\"\n",
    "    Splits text into sentences\n",
    "    IN: text, str, text to split into sentences\n",
    "    OUT: sentences, list[str], sentences in the text\n",
    "    \"\"\"\n",
    "    # join lines into a single paragraph\n",
    "    text = text.replace(\"\\n\", \" \")\n",
    "\n",
    "    # remove leading and trailing whitespaces in the text\n",
    "    \"\"\"__Your_Code_Here__\"\"\"\n",
    "    text = text.strip()\n",
    "    # use spaCy to split the text into sentences\n",
    "    \"\"\"__Your_Code_Here__\"\"\"\n",
    "    split = nlp(text)\n",
    "    sentences = [sentence.text for sentence in split.sents]\n",
    "\n",
    "    return sentences"
   ]
  },
  {
   "cell_type": "markdown",
   "metadata": {},
   "source": [
    "#### 2.2 (8 pts): Tokenize sentences and remove punctuations and spaces."
   ]
  },
  {
   "cell_type": "markdown",
   "metadata": {},
   "source": [
    "Write a function `tokenize_sentence(sentence)` that\n",
    "\n",
    "- **Input:** A string `sentence` that has been processed by the previous functions.\n",
    "- **Output:** A list of strings, where each string is a lemmatized token in the sentence.\n",
    "\n",
    "**Note:**\n",
    "\n",
    "- You can use the `spaCy` module to tokenize the sentence and remove punctuation and spaces. Below is an example demonstrating how to implement this functionality:\n",
    "\n",
    "  ```python\n",
    "  import spacy\n",
    "\n",
    "  nlp = spacy.load(\"en_core_web_sm\") # Load the English language model\n",
    "  \n",
    "  sentence = \"This is a sentence.\"\n",
    "  doc = nlp(sentence) # Process the input sentence\n",
    "\n",
    "  # Extract lemmatized tokens, excluding punctuation and spaces\n",
    "  tokens = [\n",
    "    token.lemma_ \n",
    "    for token in doc \n",
    "    if not token.is_punct and not token.is_space\n",
    "  ]\n",
    "  print(tokens)\n",
    "  ```\n",
    "  The printed output will be \n",
    "  ```python\n",
    "  ['this', 'be', 'a', 'sentence']\n",
    "  ```\n"
   ]
  },
  {
   "cell_type": "code",
   "execution_count": 193,
   "metadata": {},
   "outputs": [],
   "source": [
    "import spacy\n",
    "\n",
    "nlp = spacy.load(\"en_core_web_sm\")\n",
    "\n",
    "def tokenize_sentence(sentence):\n",
    "    \"\"\"\n",
    "    Tokenizes sentence into lemmatized words\n",
    "    IN: sentence, str, sentence to tokenize\n",
    "    OUT: tokenized_sentence, list[str], tokenized sentences\n",
    "    \"\"\"\n",
    "    # use spaCy to tokenize the sentence into lemmatized words\n",
    "    \"\"\"__Your_Code_Here__\"\"\"\n",
    "    doc = nlp(sentence)\n",
    "    tokenized_sentence = [\n",
    "    token.lemma_ \n",
    "    for token in doc \n",
    "    if not token.is_punct and not token.is_space\n",
    "  ]\n",
    "    return tokenized_sentence"
   ]
  },
  {
   "cell_type": "markdown",
   "metadata": {},
   "source": [
    "#### 2.3 (6 pts): Remove stopwords."
   ]
  },
  {
   "cell_type": "markdown",
   "metadata": {},
   "source": [
    "Write a function `remove_stopwords(tokens)` that\n",
    "\n",
    "- **Input:** A list of strings `tokens` that have been processed by the previous functions.\n",
    "- **Output:** A filtered list of strings that does not contain stopwords.\n",
    "\n",
    "**Note:**\n",
    "\n",
    "- You can use the `spaCy` module to remove the stopwords. Below is an example demonstrating how to implement this functionality, including adding an additional stopword \"blah\":\n",
    "\n",
    "  ```python\n",
    "  import spacy\n",
    "\n",
    "  nlp = spacy.load(\"en_core_web_sm\") # Load the English language model\n",
    "\n",
    "  nlp.Defaults.stop_words.add(\"blah\") # Add an additional stopword \"blah\"\n",
    "\n",
    "  tokens = [\"this\", \"be\", \"a\", \"sentence\"]\n",
    "\n",
    "  # Filter out stopwords from the tokens list\n",
    "  tokens = [token for token in tokens if not nlp.vocab[token].is_stop]\n",
    "  print(tokens)\n",
    "  ```\n",
    "  The printed output will be \n",
    "  ```python\n",
    "  ['sentence']\n",
    "  ```"
   ]
  },
  {
   "cell_type": "code",
   "execution_count": 194,
   "metadata": {},
   "outputs": [],
   "source": [
    "import spacy\n",
    "\n",
    "nlp = spacy.load(\"en_core_web_sm\")\n",
    "nlp.Defaults.stop_words.add(\"blah\")\n",
    "\n",
    "def remove_stopwords(tokens):\n",
    "    \"\"\"\n",
    "    Removes stopwords from tokens\n",
    "    IN: tokens, list[str], tokens to remove stopwords from\n",
    "    OUT: tokens, list[str], tokens with stopwords removed\n",
    "    \"\"\"\n",
    "    # use spaCy to remove stopwords\n",
    "    \"\"\"__Your_Code_Here__\"\"\"\n",
    "    tokens = [token for token in tokens if not nlp.vocab[token].is_stop]\n",
    "    return tokens"
   ]
  },
  {
   "cell_type": "markdown",
   "metadata": {},
   "source": [
    "### Task 3 (5 pts): Save the cleaned text"
   ]
  },
  {
   "cell_type": "markdown",
   "metadata": {},
   "source": [
    "#### 3.1 (5 pts): Save the processed text as a csv file."
   ]
  },
  {
   "cell_type": "markdown",
   "metadata": {},
   "source": [
    "Write a function `save_as_csv(process_text, file_path)` that\n",
    "\n",
    "- **Input 1:** A list of lists of strings `processed_text`, where each inner list contains the processed tokens of a sentence in a lecture transcript.\n",
    "- **Input 2:** A string `file_path` that specifies the path to save the CSV file.\n",
    "- **Write** the processed text to a CSV file at the specified `file_path`."
   ]
  },
  {
   "cell_type": "code",
   "execution_count": 195,
   "metadata": {},
   "outputs": [],
   "source": [
    "import csv\n",
    "\n",
    "def save_as_csv(process_text, file_path):\n",
    "    \"\"\"\n",
    "    Saves processed text to a CSV file\n",
    "    IN: process_text, list[list[str]], processed text of a lecture transcript to save to a CSV file\n",
    "        file_path, str, path to the CSV file\n",
    "    OUT: None\n",
    "    \"\"\"\n",
    "    # write the processed text to a CSV file\n",
    "    with open(file_path,'w') as file:\n",
    "        for sentence in process_text:\n",
    "            temp = \" \".join(sentence)\n",
    "            file.write(temp)\n",
    "\n"
   ]
  },
  {
   "cell_type": "markdown",
   "metadata": {},
   "source": [
    "### Task 4 (45 pts): Word Frequency Analysis"
   ]
  },
  {
   "cell_type": "markdown",
   "metadata": {},
   "source": [
    "#### 4.1 (10 pts): Compute the cumulative word frequency."
   ]
  },
  {
   "cell_type": "markdown",
   "metadata": {},
   "source": [
    "Write a function `update_word_frequency(processed_text, cumulated_frequency)` that\n",
    "\n",
    "- **Input 1:** A list of lists of strings `processed_text`, where each inner list contains the processed tokens of a sentence in a lecture transcript.\n",
    "- **Input 2:** A dictionary `cumulated_frequency` that stores the cumulated word frequency up to now. By default, `cumulated_frequency` is an empty dictionary."
   ]
  },
  {
   "cell_type": "code",
   "execution_count": 196,
   "metadata": {},
   "outputs": [],
   "source": [
    "from collections import Counter # if you don't know Counter, ignore this import. Recall Counter is a subclass of dict\n",
    "\n",
    "def update_word_frequency(processed_text, cumulated_frequency=None):\n",
    "    \"\"\"\n",
    "    Updates the cumulated word frequency with the frequency in the processed text\n",
    "    IN: processed_text, list[list[str]], processed text to count word frequency\n",
    "        cumulated_frequency, dict{str: int}, cumulated word frequency\n",
    "    OUT: cumulated_frequency, dict{str: int}, cumulated word frequency\n",
    "    \"\"\"\n",
    "    # if cumulated_frequency is not provided, initialize it\n",
    "    \"\"\"__Your_Code_Here__\"\"\"\n",
    "    if cumulated_frequency == None:\n",
    "        cumulated_frequency = Counter()\n",
    "    else:\n",
    "        cumulated_frequency = Counter(cumulated_frequency)\n",
    "\n",
    "\n",
    "    # update the cumulated frequency with the frequency in each sentence\n",
    "    \"\"\"__Your_Code_Here__\"\"\"\n",
    "    all_words = [word for sentence in processed_text for word in sentence]\n",
    "    cumulated_frequency.update(all_words)\n",
    "\n",
    "    return cumulated_frequency"
   ]
  },
  {
   "cell_type": "markdown",
   "metadata": {},
   "source": [
    "#### 4.2 (5 pts): Plot the word frequency as a histogram."
   ]
  },
  {
   "cell_type": "markdown",
   "metadata": {},
   "source": [
    "Write a function `plot_word_frequency_dist(cumulated_frequency)` that\n",
    "\n",
    "- **Input:** A dictionary `cumulated_frequency` that stores the cumulated word frequency.\n",
    "- Plot the word frequency as a histogram.\n",
    "\n",
    "Note:\n",
    "\n",
    "- This function plots a histogram where the x-axis represents the word frequency, and the y-axis represents the number of words that appear with the corresponding frequency.\n",
    "- You may use the `matplotlib` module to create the histogram. If you haven't installed it yet, you can do so by running the following command in your terminal:\n",
    "  ```bash\n",
    "  pip install matplotlib\n",
    "  ```\n",
    "- To plot a histogram, you may use the plt.hist() function, which takes a list of values as input.\n",
    "\n",
    "  ```python\n",
    "  import matplotlib.pyplot as plt\n",
    "  values = [1, 1, 1, 2, 3, 3, 3, 3, 3, 4, 4, 5]\n",
    "  plt.hist(values)\n",
    "  plt.show()\n",
    "  ```"
   ]
  },
  {
   "cell_type": "code",
   "execution_count": 197,
   "metadata": {},
   "outputs": [],
   "source": [
    "import matplotlib.pyplot as plt\n",
    "\n",
    "def plot_word_frequency_dist(cumulated_frequency):\n",
    "    \"\"\"\n",
    "    Plots word frequency\n",
    "    IN: cumulated_frequency, dict{str: int}, cumulated word frequency\n",
    "    OUT: None\n",
    "    \"\"\"\n",
    "    # plot the word frequency distribution\n",
    "    \"\"\"__Your_Code_Here__\"\"\"\n",
    "    values = cumulated_frequency.values()\n",
    "    plt.figure(figsize=(15,5))\n",
    "    plt.hist(values)\n",
    "    plt.xlabel(\"Word Frequency\")\n",
    "    plt.ylabel(\"Num of Words\")\n",
    "    plt.title(\"Word Frequency Distribution\")\n",
    "    plt.show()\n"
   ]
  },
  {
   "cell_type": "markdown",
   "metadata": {},
   "source": [
    "#### 4.3 (5 pts): Sort the words by frequency."
   ]
  },
  {
   "cell_type": "markdown",
   "metadata": {},
   "source": [
    "Write a function `sort_words_by_frequency(cumulated_frequency)` that\n",
    "\n",
    "- **Input:** A dictionary `cumulated_frequency` that stores the cumulated word frequency.\n",
    "- **Output:** A list of tuples, where each tuple contains a word and its frequency, sorted by frequency in non-ascending order. If two words have the same frequency, they are sorted in alphabetical non-descending order."
   ]
  },
  {
   "cell_type": "code",
   "execution_count": 198,
   "metadata": {},
   "outputs": [],
   "source": [
    "def sort_words_by_frequency(cumulated_frequency):\n",
    "    \"\"\"\n",
    "    Sorts words by frequency\n",
    "    IN: cumulated_frequency, dict{str: int}, cumulated word frequency\n",
    "    OUT: sorted_word_frequencies, list[tuple(str, int)], sorted words by frequency\n",
    "    \"\"\"\n",
    "    # sort the words by frequency, breaking ties by word alphabetical order\n",
    "    \"\"\"__Your_Code_Here__\"\"\"\n",
    "    sorted_words = sorted(cumulated_frequency.items(), key=lambda x: (-x[1], x[0]))\n",
    "    return sorted_words"
   ]
  },
  {
   "cell_type": "markdown",
   "metadata": {},
   "source": [
    "#### 4.4 (10 pts): Bucket the words by frequency using mean and standard deviation."
   ]
  },
  {
   "cell_type": "markdown",
   "metadata": {},
   "source": [
    "#### 4.4.1 (3 pts): Find the mean and standard deviation of the word frequency."
   ]
  },
  {
   "cell_type": "markdown",
   "metadata": {},
   "source": [
    "Write a function `find_mean_and_std(sorted_word_frequencies)` that\n",
    "\n",
    "- **Input:** A sorted list of tuples `sorted_word_frequencies` consisting of words and their frequencies.\n",
    "- **Output:** A tuple `(mean, std)` where `mean` is the average of the word frequencies and `std` is the standard deviation of the word frequencies.\n",
    "\n",
    "#### Formulas:\n",
    "- Mean: \n",
    "  $$\n",
    "  \\bar{f} = \\frac{\\sum_{i=1}^{n} f_i}{n}\n",
    "  $$\n",
    "  where $f_i$ is the frequency of the $i$-th word and $n$ is the number of words.\n",
    "\n",
    "- Standard Deviation: \n",
    "  $$\n",
    "  \\sigma = \\sqrt{\\frac{\\sum_{i=1}^{n} (f_i - \\bar{f})^2}{n}}\n",
    "  $$\n",
    "  where $f_i$ is the frequency of the $i$-th word, $\\bar{f}$ is the mean of the word frequency, and $n$ is the number of words.\n"
   ]
  },
  {
   "cell_type": "code",
   "execution_count": 199,
   "metadata": {},
   "outputs": [],
   "source": [
    "def find_mean_and_std(sorted_word_frequencies):\n",
    "    \"\"\"\n",
    "    Finds mean and standard deviation of word frequency\n",
    "    IN: sorted_word_frequencies, list[tuple(str, int)], sorted words by frequency\n",
    "    OUT: mean, float, mean of word frequency\n",
    "         std, float, standard deviation of word frequency\n",
    "    \"\"\"\n",
    "    # access all the frequencies\n",
    "    \"\"\"__Your_Code_Here__\"\"\"\n",
    "    frequencies = [frequency for _, frequency in sorted_word_frequencies]\n",
    "\n",
    "    # calculate the mean\n",
    "    \"\"\"__Your_Code_Here__\"\"\"\n",
    "    mean = sum(frequencies)/len(frequencies)\n",
    "\n",
    "    # calculate the standard deviation\n",
    "    \"\"\"__Your_Code_Here__\"\"\"\n",
    "    variance = sum((frequency - mean)**2 for frequency in frequencies) / len(frequencies)\n",
    "    std = variance**.5\n",
    "    return mean, std"
   ]
  },
  {
   "cell_type": "markdown",
   "metadata": {},
   "source": [
    "##### 4.4.2 (3 pts): Bucket a value by the mean and standard deviation."
   ]
  },
  {
   "cell_type": "markdown",
   "metadata": {},
   "source": [
    "Write a function `bucket_value_by_mean_std(value, mean, std)` that\n",
    "\n",
    "- **Input 1:** A number `value` representing the frequency of a word.\n",
    "- **Input 2:** A float `mean` representing the mean of the word frequency.\n",
    "- **Input 3:** A float `std` representing the standard deviation of the word frequency.\n",
    "- **Output:** An integer representing the bucket index of the word frequency.\n",
    "\n",
    "**Formula:**\n",
    "The bucket index can be calculated using the formula:\n",
    "$$\n",
    "b = \\left\\lfloor \\frac{f - \\bar{f}}{\\sigma} \\right\\rfloor\n",
    "$$\n",
    "where:\n",
    "- $f$ is the frequency of the word,\n",
    "- $\\bar{f}$ is the mean of the word frequency,\n",
    "- $\\sigma$ is the standard deviation of the word frequency,\n",
    "- $\\lfloor \\cdot \\rfloor$ is the floor function."
   ]
  },
  {
   "cell_type": "code",
   "execution_count": 200,
   "metadata": {},
   "outputs": [],
   "source": [
    "import math\n",
    "\n",
    "def bucket_value_by_mean_std(value, mean, std):\n",
    "    \"\"\"\n",
    "    Buckets value by mean and standard deviation\n",
    "    IN: value, int | float, value from a distribution to bucket\n",
    "        mean, float, mean of the distribution\n",
    "        std, float, standard deviation of the distribution\n",
    "    OUT: bucket_idx, int, bucket index\n",
    "    \"\"\"\n",
    "    # calculate the bucket index\n",
    "    \"\"\"__Your_Code_Here__\"\"\"\n",
    "    bucket_val = (value-mean)/std\n",
    "    bucket_idx = math.floor(bucket_val+1)\n",
    "    \n",
    "    return bucket_idx"
   ]
  },
  {
   "cell_type": "markdown",
   "metadata": {},
   "source": [
    "##### 4.4.3 (4 pts): Find the bucket index of each word."
   ]
  },
  {
   "cell_type": "markdown",
   "metadata": {},
   "source": [
    "Write a function `find_bucket_index_of_words(sorted_word_frequencies)` that\n",
    "\n",
    "- **Input:** A sorted list of tuples `sorted_word_frequencies` consisting of words and their frequencies.\n",
    "- **Output:** A list of dictionaries, where each dictionary contains three key-value pairs:\n",
    "  - `word`: the word from the input list.\n",
    "  - `frequency`: the frequency of the word.\n",
    "  - `bucket`: the bucket index of the word frequency."
   ]
  },
  {
   "cell_type": "code",
   "execution_count": 201,
   "metadata": {},
   "outputs": [],
   "source": [
    "def find_bucket_index_of_words(sorted_word_frequencies):\n",
    "    \"\"\"\n",
    "    Finds bucket index of words by mean and standard deviation\n",
    "    IN: sorted_word_frequencies, list[tuple(str, int)], sorted words by frequency\n",
    "    OUT: sorted_word_info, list[dict{\"word\": str, \"frequency\": int, \"bucket\": int}], words with frequency and bucket index\n",
    "    \"\"\"\n",
    "    # find the mean and standard deviation of the word frequencies\n",
    "    \"\"\"__Your_Code_Here__\"\"\"\n",
    "    mean_val, std_val = find_mean_and_std(sorted_word_frequencies)\n",
    "    # collect the words with their frequency and bucket index\n",
    "    sorted_word_info = []\n",
    "    for word, freq in sorted_word_frequencies:\n",
    "        \"\"\"__Your_Code_Here__\"\"\"\n",
    "        bucket_idx = bucket_value_by_mean_std(freq, mean_val, std_val)\n",
    "        sorted_word_info.append({\"word\": word, \"frequency\": freq, \"bucket\": bucket_idx})\n",
    "\n",
    "    return sorted_word_info\n"
   ]
  },
  {
   "cell_type": "markdown",
   "metadata": {},
   "source": [
    "#### 4.5 (5 pts): Save the word information as a JSON file."
   ]
  },
  {
   "cell_type": "markdown",
   "metadata": {},
   "source": [
    "Write a function `save_as_json(sorted word_info, file_path)` that\n",
    "\n",
    "- **Input 1:** A sorted list of dictionaries `sorted_word_info` that contains frequency and bucket information of each word.\n",
    "- **Input 2:** A string `file_path` that specifies the path to save the JSON file.\n",
    "- **Write** the word information as a JSON file."
   ]
  },
  {
   "cell_type": "code",
   "execution_count": 202,
   "metadata": {},
   "outputs": [],
   "source": [
    "import json\n",
    "\n",
    "def save_as_json(sorted_word_info, file_path):\n",
    "    \"\"\"\n",
    "    Saves word info to a JSON file\n",
    "    IN: sorted_word_info, list[dict{\"word\": str, \"frequency\": int, \"bucket\": int}], words with frequency and bucket index\n",
    "        file_path, str, path to the JSON file\n",
    "    OUT: None\n",
    "    \"\"\"\n",
    "    # write the word info to a JSON file\n",
    "    \"\"\"__Your_Code_Here__\"\"\"\n",
    "     # Write the word info to a JSON file\n",
    "    with open(file_path, 'w') as file_json:\n",
    "        json.dump(sorted_word_info, file_json, indent = 2)"
   ]
  },
  {
   "cell_type": "markdown",
   "metadata": {},
   "source": [
    "#### 4.6 (10 pts): Plot stacked word frequency bar chart."
   ]
  },
  {
   "cell_type": "markdown",
   "metadata": {},
   "source": [
    "Write a function `plot_stacked_word_frequency(word_frequencies_list, sorted_words)` that\n",
    "\n",
    "- **Input 1:** A list of dictionaries `word_frequencies_list`. Each dictionary contains the cumulated word frequency up to a certain lecture transcript. \n",
    "  \n",
    "  The first dictionary contains the word frequency of the first lecture transcript, the second dictionary contains the cumulated word frequency of the first and second lecture transcripts, and so on.\n",
    "- **Input 2:** A list of tuples `sorted_words` that contains the words sorted by frequency.\n",
    "- **Plot** the word frequency as a stacked bar chart.\n",
    "\n",
    "Note:\n",
    "\n",
    "- A stacked bar chart uses bars to show comparisons between categories of data, with the ability to break down and compare parts of a whole. In this task:\n",
    "  - The x-axis represents the words.\n",
    "  - The y-axis represents the word frequency.\n",
    "  - Bars are sorted using the order of `sorted_words`.\n",
    "- You may use the `matplotlib` module to plot the stacked bar chart. The following code snippet demonstrates how to create a stacked bar chart using the `plt.bar()` function.\n",
    "\n",
    "  ```python\n",
    "  import matplotlib.pyplot as plt\n",
    "  \n",
    "  cmap = plt.get_cmap(\"viridis_r\")  # use colormap for coloring the bars\n",
    "  \n",
    "  words = [\"apple\", \"banana\", \"cherry\"]  # list all words used in x-axis\n",
    "  frequencies_list = [  # list of cumulated word frequencies\n",
    "      [1, 3, 0],  # frequencies in document 1\n",
    "      [3, 3, 3],  # frequencies in document 1 and 2\n",
    "      [6, 5, 3],  # frequencies in document 1, 2, and 3\n",
    "  ]\n",
    "  \n",
    "  for i, frequencies in reversed(list(enumerate(frequencies_list))):  # plot in reverse order, so the earlier one is on top\n",
    "      plt.bar(\n",
    "          words, # x-axis, words\n",
    "          frequencies, # y-axis, cumulated frequencies\n",
    "          color=cmap(i / (len(frequencies_list) - 1)), # color the bars\n",
    "          label=f\"Up to Document {i+1}\", # label the part of the bar\n",
    "      )\n",
    "  \n",
    "  plt.xlabel(\"Words\")\n",
    "  plt.xticks(rotation=90) # rotate the x-axis labels for better readability\n",
    "  plt.ylabel(\"Frequency\")\n",
    "  plt.title(\"Word Frequency in Documents\")\n",
    "  plt.legend()\n",
    "  \n",
    "  plt.show()\n",
    "  ```"
   ]
  },
  {
   "cell_type": "code",
   "execution_count": 203,
   "metadata": {},
   "outputs": [],
   "source": [
    "import matplotlib.pyplot as plt\n",
    "\n",
    "def plot_stacked_word_frequency(word_frequencies_list, sorted_words):\n",
    "    \"\"\"\n",
    "    Plots stacked word frequency\n",
    "    IN: word_frequencies_list, list[dict{str: int}], word frequencies to plot\n",
    "        sorted_words, list[tuple(str, int)], sorted words by frequency\n",
    "    OUT: None\n",
    "    \"\"\"\n",
    "    # set up color map\n",
    "    cmp = plt.get_cmap(\"viridis_r\")\n",
    "\n",
    "    # get words and frequencies\n",
    "    \"\"\"__Your_Code_Here__\"\"\"\n",
    "    frequencies_list = []\n",
    "    for listDict in word_frequencies_list:\n",
    "        temp = []\n",
    "        for word in sorted_words:\n",
    "            tempNumber = listDict.get(word[0])\n",
    "            if tempNumber == None:\n",
    "                temp.append(0)\n",
    "            else:\n",
    "                temp.append(tempNumber)\n",
    "        frequencies_list.append(temp)\n",
    "    words = [pair[0] for pair in sorted_words]\n",
    "\n",
    "    # plot the stacked word frequency\n",
    "    \"\"\"__Your_Code_Here__\"\"\"\n",
    "    for i, frequencies in reversed(list(enumerate(frequencies_list))):\n",
    "        plt.bar(words,frequencies, color=cmp(i / len(frequencies_list)), # color the bars\n",
    "          label=f\"Up to Document {i+1}\") # label the part of the bar\n",
    "    plt.xlabel(\"Words\")\n",
    "    plt.xticks(rotation=90)\n",
    "    plt.ylabel(\"Frequency\")\n",
    "    plt.title(\"Stacked Word Frequency\")\n",
    "    plt.legend(loc='center left', bbox_to_anchor=(1, 0.5)) # move the legend to the right to avoid overlapping with the bars\n",
    "    plt.show()"
   ]
  },
  {
   "cell_type": "markdown",
   "metadata": {},
   "source": [
    "### Call of functions for testing purposes"
   ]
  },
  {
   "cell_type": "code",
   "execution_count": 204,
   "metadata": {},
   "outputs": [
    {
     "name": "stdout",
     "output_type": "stream",
     "text": [
      "Processing ./data/transcript 1.pdf\n",
      "Processing ./data/transcript 2.pdf\n",
      "Processing ./data/transcript 3.pdf\n",
      "Processing ./data/transcript 4.pdf\n",
      "Processing ./data/transcript 5.pdf\n",
      "Processing ./data/transcript 6.pdf\n",
      "Processing ./data/transcript 7.pdf\n",
      "Processing ./data/transcript 8.pdf\n",
      "Processing ./data/transcript 9.pdf\n",
      "Processing ./data/transcript 10.pdf\n",
      "Processing ./data/transcript 11.pdf\n",
      "Processing ./data/transcript 12.pdf\n"
     ]
    },
    {
     "data": {
      "image/png": "[encoded data removed]",
      "text/plain": [
       "<Figure size 1500x500 with 1 Axes>"
      ]
     },
     "metadata": {},
     "output_type": "display_data"
    },
    {
     "name": "stdout",
     "output_type": "stream",
     "text": [
      "[('list', 315), ('want', 300), ('dictionary', 288), ('value', 274), ('use', 266), ('number', 252), ('like', 242), ('thing', 232), ('code', 221), ('function', 217), ('way', 184), ('element', 182), ('example', 180), ('okay', 178), ('point', 167), ('look', 161), ('object', 154), ('happen', 146), ('collection', 143), ('important', 143), ('variable', 143), ('Python', 140), ('key', 140), ('case', 124), ('different', 124), ('type', 123), ('question', 120), ('datum', 119), ('tell', 119), ('set', 116), ('understand', 115), ('>', 114), ('condition', 114), ('piece', 114), ('know', 113), ('string', 110), ('create', 107), ('file', 105), ('statement', 104), ('loop', 93), ('time', 93), ('mean', 92), ('print', 91), ('class', 90), ('good', 86), ('line', 86), ('parameter', 86), ('answer', 83), ('pair', 83), ('particular', 83), ('specify', 82), ('index', 81), ('language', 81), ('think', 80), ('write', 80), ('right', 77), ('second', 77), ('order', 76), ('yeah', 73), ('apply', 72), ('assign', 71), ('true', 71), ('need', 70), ('method', 67), ('start', 67), ('book', 66), ('character', 64), ('integer', 64), ('program', 64), ('clear', 62), ('come', 62), ('group', 62), ('item', 62), ('yes', 62), ('access', 61), ('let', 59), ('try', 59), ('zero', 58), ('random', 57), ('grade', 55), ('check', 54), ('computer', 54), ('guy', 54), ('inside', 53), ('remember', 53), ('simple', 53), ('bracket', 52), ('tuple', 52), ('interpreter', 51), ('difference', 50), ('ask', 49), ('copy', 49), ('raise', 49), ('kind', 48), ('people', 48), ('change', 47), ('exception', 47), ('x', 47), ('instruction', 46), ('stuff', 45), ('hand', 44), ('range', 44), ('problem', 43), ('process', 43), ('argument', 42), ('define', 42), ('expression', 42), ('suppose', 42), ('useful', 42), ('10', 41), ('associate', 41), ('extreme', 41), ('little', 40), ('box', 39), ('library', 39), ('pass', 39), ('square', 39), ('year', 39), ('certain', 38), ('bunch', 37), ('machine', 37), ('complicated', 36), ('component', 36), ('deal', 36), ('execute', 36), ('step', 36), ('Y', 35), ('able', 35), ('allow', 35), ('assignment', 35), ('operation', 35), ('student', 35), ('contain', 34), ('maybe', 34), ('add', 33), ('column', 33), ('end', 33), ('input', 33), ('lot', 33), ('quiz', 33), ('aware', 32), ('etc', 32), ('lecture', 32), ('picture', 32), ('sure', 32), ('system', 32), ('level', 30), ('open', 29), ('iterate', 28), ('usually', 28), ('anybody', 27), ('dimension', 27), ('great', 27), ('refer', 27), ('single', 27), ('view', 27), ('bit', 26), ('find', 26), ('new', 26), ('pattern', 26), ('sequence', 26), ('specification', 26), ('today', 26), ('implement', 25), ('movie', 25), ('parenthesis', 25), ('quote', 25), ('CS', 24), ('a.', 24), ('control', 24), ('equal', 24), ('exactly', 24), ('match', 24), ('minute', 24), ('powerful', 24), ('purpose', 24), ('semantic', 24), ('store', 24), ('-1', 23), ('data', 23), ('heck', 23), ('help', 23), ('idea', 23), ('mechanism', 23), ('processing', 23), ('root', 23), ('science', 23), ('STUDENT', 22), ('completely', 22), ('compute', 22), ('develop', 22), ('explain', 22), ('high', 22), ('information', 22), ('initialize', 22), ('keyvalue', 22), ('position', 22), ('project', 22), ('rest', 22), ('special', 22), ('talk', 22), ('enter', 21), ('error', 21), ('learn', 21), ('power', 21), ('test', 21), ('X', 20), ('depend', 20), ('false', 20), ('midterm', 20), ('notice', 20), ('oh', 20), ('operator', 20), ('prime', 20), ('repeat', 20), ('work', 20), ('appear', 19), ('interesting', 19), ('scope', 19), ('table', 19), ('Group', 18), ('actually', 18), ('base', 18), ('body', 18), ('computation', 18), ('divide', 18), ('game', 18), ('general', 18), ('global', 18), ('local', 18), ('long', 18), ('mention', 18), ('perimeter', 18), ('person', 18), ('reference', 18), ('run', 18), ('simulate', 18), ('walk', 18), ('PROFESSOR', 17), ('arrow', 17), ('big', 17), ('bonus', 17), ('exercise', 17), ('human', 17), ('rating', 17), ('read', 17), ('remove', 17), ('section', 17), ('seven', 17), ('speak', 17), ('treat', 17), ('append', 16), ('basic', 16), ('careful', 16), ('description', 16), ('length', 16), ('material', 16), ('negative', 16), ('nice', 16), ('previous', 16), ('text', 16), ('translate', 16), ('wrong', 16), ('affect', 15), ('comma', 15), ('complete', 15), ('count', 15), ('definition', 15), ('difficult', 15), ('discuss', 15), ('finish', 15), ('follow', 15), ('hear', 15), ('interpret', 15), ('left', 15), ('mass', 15), ('meaning', 15), ('sense', 15), ('template', 15), ('transform', 15), ('user', 15), ('word', 15), ('1', 14), ('Canvas', 14), ('age', 14), ('build', 14), ('construction', 14), ('day', 14), ('express', 14), ('hash', 14), ('homework', 14), ('indicate', 14), ('learning', 14), ('memory', 14), ('place', 14), ('real', 14), ('reverse', 14), ('210', 13), ('business', 13), ('close', 13), ('continue', 13), ('extend', 13), ('fee', 13), ('generate', 13), ('head', 13), ('hi', 13), ('location', 13), ('output', 13), ('outside', 13), ('participation', 13), ('practice', 13), ('programmer', 13), ('provide', 13), ('rectangle', 13), ('replace', 13), ('represent', 13), ('separate', 13), ('shallow', 13), ('stock', 13), ('wait', 13), ('weight', 13), ('2', 12), ('20', 12), ('B.', 12), ('INSTRUCTOR', 12), ('algorithm', 12), ('common', 12), ('correspond', 12), ('handle', 12), ('identify', 12), ('inject', 12), ('link', 12), ('manipulate', 12), ('model', 12), ('pay', 12), ('record', 12), ('self', 12), ('Monday', 11), ('RES', 11), ('assume', 11), ('atomic', 11), ('average', 11), ('b', 11), ('care', 11), ('connection', 11), ('decide', 11), ('describe', 11), ('design', 11), ('distance', 11), ('expect', 11), ('extract', 11), ('extremely', 11), ('face', 11), ('hope', 11), ('individual', 11), ('instead', 11), ('life', 11), ('main', 11), ('maintain', 11), ('mapping', 11), ('matter', 11), ('multiple', 11), ('pop', 11), ('positive', 11), ('product', 11), ('push', 11), ('relationship', 11), ('similar', 11), ('solve', 11), ('sophisticated', 11), ('sorry', 11), ('stop', 11), ('structure', 11), ('symbol', 11), ('term', 11), ('vector', 11), ('week', 11), ('123', 10), ('ABC', 10), ('accept', 10), ('activity', 10), ('application', 10), ('blank', 10), ('compare', 10), ('complex', 10), ('cover', 10), ('detail', 10), ('execution', 10), ('flowchart', 10), ('guess', 10), ('height', 10), ('hour', 10), ('integrate', 10), ('log', 10), ('loud', 10), ('manipulation', 10), ('map', 10), ('member', 10), ('multiply', 10), ('operate', 10), ('play', 10), ('produce', 10), ('rate', 10), ('reason', 10), ('require', 10), ('semester', 10), ('story', 10), ('subject', 10), ('tag', 10), ('translation', 10), ('trick', 10), ('wish', 10), ('B', 9), ('F', 9), ('Loud', 9), ('Y.', 9), ('accord', 9), ('accumulate', 9), ('analysis', 9), ('bring', 9), ('clas', 9), ('color', 9), ('company', 9), ('convert', 9), ('database', 9), ('difficulty', 9), ('easy', 9), ('effect', 9), ('especially', 9), ('fact', 9), ('forget', 9), ('funny', 9), ('large', 9), ('later', 9), ('letter', 9), ('mathematical', 9), ('programming', 9), ('relate', 9), ('sim', 9), ('somebody', 9), ('track', 9), ('transcript', 9), ('tricky', 9), ('update', 9), ('welcome', 9), ('x.', 9), ('11', 8), ('3', 8), ('Fahrenheit', 8), ('X.', 8), ('action', 8), ('alive', 8), ('anytime', 8), ('attribute', 8), ('backwards', 8), ('believe', 8), ('break', 8), ('concatenate', 8), ('confuse', 8), ('correct', 8), ('corresponding', 8), ('diagram', 8), ('dimensional', 8), ('distribution', 8), ('everybody', 8), ('far', 8), ('finally', 8), ('insert', 8), ('issue', 8), ('law', 8), ('logic', 8), ('low', 8), ('matching', 8), ('mind', 8), ('mini', 8), ('miss', 8), ('mistake', 8), ('p', 8), ('paste', 8), ('popular', 8), ('prepare', 8), ('r', 8), ('result', 8), ('return', 8), ('specific', 8), ('sum', 8), ('syntax', 8), ('thank', 8), ('title', 8), ('tomato', 8), ('topic', 8), ('80', 7), ('90', 7), ('C', 7), ('P2', 7), ('TBH', 7), ('ZY', 7), ('basically', 7), ('beginning', 7), ('boolean', 7), ('bot', 7), ('chance', 7), ('chat', 7), ('circle', 7), ('compiler', 7), ('double', 7), ('excuse', 7), ('exist', 7), ('eye', 7), ('flip', 7), ('format', 7), ('generator', 7), ('goal', 7), ('identity', 7), ('interested', 7), ('message', 7), ('minus', 7), ('plus', 7), ('precisely', 7), ('ready', 7), ('remainder', 7), ('send', 7), ('space', 7), ('split', 7), ('state', 7), ('triple', 7), ('versus', 7), ('10,000', 6), ('1000', 6), ('12', 6), ('25', 6), ('3.14', 6), ('45', 6), ('50', 6), ('ID', 6), ('Peter', 6), ('achieve', 6), ('advanced', 6), ('beautiful', 6), ('caveat', 6), ('clean', 6), ('conditional', 6), ('convention', 6), ('cost', 6), ('counter', 6), ('county', 6), ('deep', 6), ('delete', 6), ('divisible', 6), ('dog', 6), ('dollar', 6), ('email', 6), ('evaluate', 6), ('eventually', 6), ('fail', 6), ('final', 6), ('fine', 6), ('focus', 6), ('following', 6), ('free', 6), ('friend', 6), ('gigantic', 6), ('hard', 6), ('include', 6), ('independent', 6), ('infinite', 6), ('interable', 6), ('jargon', 6), ('jump', 6), ('keyword', 6), ('major', 6), ('mathematic', 6), ('operating', 6), ('palindrome', 6), ('parenthese', 6), ('past', 6), ('phrase', 6), ('possible', 6), ('probability', 6), ('queue', 6), ('rain', 6), ('recommendation', 6), ('representation', 6), ('score', 6), ('script', 6), ('short', 6), ('site', 6), ('spend', 6), ('stack', 6), ('strange', 6), ('strip', 6), ('task', 6), ('thousand', 6), ('traverse', 6), ('vowel', 6), ('+', 5), ('15', 5), ('31', 5), ('GPT', 5), ('Java', 5), ('SQ', 5), ('TA', 5), ('TMP', 5), ('Z.', 5), ('account', 5), ('approach', 5), ('aspect', 5), ('assumption', 5), ('attach', 5), ('automatically', 5), ('bad', 5), ('buy', 5), ('coat', 5), ('coin', 5), ('combine', 5), ('concatenation', 5), ('consist', 5), ('consonant', 5), ('couple', 5), ('cumbersome', 5), ('default', 5), ('determine', 5), ('document', 5), ('emphasize', 5), ('encode', 5), ('entity', 5), ('entry', 5), ('excellent', 5), ('experience', 5), ('fill', 5), ('float', 5), ('force', 5), ('generalize', 5), ('happy', 5), ('initial', 5), ('initialization', 5), ('intelligence', 5), ('interpretation', 5), ('lead', 5), ('leave', 5), ('logical', 5), ('louder', 5), ('market', 5), ('math', 5), ('membership', 5), ('metal', 5), ('middle', 5), ('million', 5), ('monkey', 5), ('nest', 5), ('news', 5), ('notion', 5), ('obtain', 5), ('paper', 5), ('parse', 5), ('pause', 5), ('peace', 5), ('plane', 5), ('plot', 5), ('recommend', 5), ('register', 5), ('screen', 5), ('sit', 5), ('small', 5), ('syntactical', 5), ('terminal', 5), ('url', 5), ('usual', 5), ('version', 5), ('-2', 4), ('.2', 4), ('00', 4), ('112', 4), ('18', 4), ('2.5', 4), ('35', 4), ('70', 4), ('99', 4), ('Bonus', 4), ('C.', 4), ('DISCLAIMER', 4), ('ER', 4), ('Emmy', 4), ('English', 4), ('G', 4), ('God', 4), ('IMP', 4), ('Joshua', 4), ('NUM', 4), ('NetID', 4), ('Oscar', 4), ('People', 4), ('SET', 4), ('SQL', 4), ('Xavier', 4), ('anymore', 4), ('area', 4), ('artificial', 4), ('association', 4), ('attention', 4), ('backslash', 4), ('c', 4), ('chapter', 4), ('chunk', 4), ('claim', 4), ('click', 4), ('combination', 4), ('comment', 4), ('complaint', 4), ('concept', 4), ('confusion', 4), ('consider', 4), ('console', 4), ('context', 4), ('correction', 4), ('cpu', 4), ('curly', 4), ('detect', 4), ('differently', 4), ('dot', 4), ('draw', 4), ('dumb', 4), ('e', 4), ('effective', 4), ('elementary', 4), ('entire', 4), ('essential', 4), ('expert', 4), ('explicitly', 4), ('flow', 4), ('forth', 4), ('gain', 4), ('generalization', 4), ('generic', 4), ('genius', 4), ('gentleman', 4), ('gosh', 4), ('green', 4), ('guard', 4), ('hide', 4), ('implementation', 4), ('interact', 4), ('iteration', 4), ('label', 4), ('lightly', 4), ('makeup', 4), ('maximum', 4), ('mess', 4), ('mode', 4), ('moral', 4), ('morning', 4), ('mouse', 4), ('normal', 4), ('notebook', 4), ('office', 4), ('outermost', 4), ('percent', 4), ('possibility', 4), ('potato', 4), ('prefer', 4), ('private', 4), ('proper', 4), ('public', 4), ('recitation', 4), ('regardless', 4), ('respect', 4), ('rule', 4), ('sample', 4), ('scale', 4), ('select', 4), ('silly', 4), ('slide', 4), ('society', 4), ('sort', 4), ('sound', 4), ('star', 4), ('subset', 4), ('theory', 4), ('thought', 4), ('tool', 4), ('topper', 4), ('touch', 4), ('trouble', 4), ('underscore', 4), ('unfortunately', 4), ('uniform', 4), ('unit', 4), ('visitation', 4), ('world', 4), ('worry', 4), ('-25.5', 3), ('.5', 3), ('100,000', 3), ('1234', 3), ('1st', 3), ('23', 3), ('24', 3), ('300', 3), ('40', 3), ('52', 3), ('60', 3), ('68', 3), ('8:30', 3), ('A.', 3), ('AI', 3), ('AZ', 3), ('C1', 3), ('C2', 3), ('CART', 3), ('CLARIFICATION', 3), ('CONTAIN', 3), ('D', 3), ('DEF', 3), ('DEL', 3), ('DEPARTMENT', 3), ('ELIF', 3), ('ERRORS', 3), ('INT', 3), ('James', 3), ('John', 3), ('Keys', 3), ('Mr.', 3), ('N', 3), ('OFFICE', 3), ('P1', 3), ('Prince', 3), ('R.', 3), ('S', 3), ('SERVICE', 3), ('STRA', 3), ('TRA', 3), ('TRY', 3), ('VERBATIM', 3), ('W-2', 3), ('W1', 3), ('WRITTEN', 3), ('XX', 3), ('XY', 3), ('advance', 3), ('agreement', 3), ('apple', 3), ('appreciation', 3), ('assistant', 3), ('auto', 3), ('avoid', 3), ('b+', 3), ('begin', 3), ('belong', 3), ('benefit', 3), ('block', 3), ('brother', 3), ('calculate', 3), ('calorie', 3), ('captioning', 3), ('capture', 3), ('challenge', 3), ('charge', 3), ('choose', 3), ('collect', 3), ('complain', 3), ('comprehension', 3), ('configuration', 3), ('connect', 3), ('constant', 3), ('contact', 3), ('cool', 3), ('court', 3), ('crazy', 3), ('decade', 3), ('deletion', 3), ('development', 3), ('directly', 3), ('disseminate', 3), ('distinction', 3), ('draft', 3), ('eBay', 3), ('elevate', 3), ('equivalent', 3), ('establish', 3), ('euros', 3), ('exemplify', 3), ('extension', 3), ('external', 3), ('extra', 3), ('f', 3), ('folk', 3), ('forever', 3), ('form', 3), ('fourth', 3), ('fun', 3), ('fundamental', 3), ('g', 3), ('hashing', 3), ('home', 3), ('id', 3), ('ignore', 3), ('imaginary', 3), ('immediately', 3), ('importance', 3), ('indentation', 3), ('individually', 3), ('instal', 3), ('install', 3), ('intelligent', 3), ('interaction', 3), ('interactive', 3), ('interface', 3), ('interval', 3), ('invent', 3), ('invoke', 3), ('involve', 3), ('isolate', 3), ('k', 3), ('knowledge', 3), ('lie', 3), ('lose', 3), ('manage', 3), ('mathematically', 3), ('meeting', 3), ('money', 3), ('net', 3), ('numerical', 3), ('o', 3), ('old', 3), ('organize', 3), ('oscar', 3), ('painful', 3), ('paint', 3), ('participate', 3), ('permission', 3), ('personal', 3), ('phase', 3), ('pizza', 3), ('player', 3), ('pointer', 3), ('portion', 3), ('positional', 3), ('post', 3), ('precalculus', 3), ('prerequisite', 3), ('presentation', 3), ('proofread', 3), ('protect', 3), ('protocol', 3), ('prove', 3), ('pseudorandom', 3), ('publish', 3), ('publisher', 3), ('quadrant', 3), ('quantify', 3), ('query', 3), ('quickly', 3), ('randomness', 3), ('rank', 3), ('receive', 3), ('red', 3), ('regard', 3), ('relatively', 3), ('request', 3), ('restaurant', 3), ('rid', 3), ('role', 3), ('row', 3), ('safe', 3), ('satisfy', 3), ('scene', 3), ('school', 3), ('segment', 3), ('sensor', 3), ('separator', 3), ('session', 3), ('sick', 3), ('size', 3), ('social', 3), ('soda', 3), ('spin', 3), ('statistical', 3), ('status', 3), ('stay', 3), ('strength', 3), ('switch', 3), ('syntactically', 3), ('teach', 3), ('thinking', 3), ('threshold', 3), ('total', 3), ('totally', 3), ('trend', 3), ('turn', 3), ('typical', 3), ('unedited', 3), ('unpack', 3), ('video', 3), ('viewpoint', 3), ('visual', 3), ('visually', 3), ('wake', 3), ('wide', 3), ('$', 2), ('-ft', 2), ('.1', 2), ('1/3', 2), ('100', 2), ('11th', 2), ('13', 2), ('16', 2), ('17', 2), ('175', 2), ('17th', 2), ('198', 2), ('2014', 2), ('2024', 2), ('21', 2), ('215', 2), ('226', 2), ('29', 2), ('30', 2), ('32', 2), ('39', 2), ('42', 2), ('48', 2), ('53', 2), ('54', 2), ('58', 2), ('7', 2), ('74', 2), ('79', 2), ('9', 2), ('ABCDE', 2), ('Alex', 2), ('Bell', 2), ('Biden', 2), ('Boolean', 2), ('CAP', 2), ('CD', 2), ('CMD', 2), ('CSB', 2), ('Celsius', 2), ('Comma', 2), ('DHEC', 2), ('ET', 2), ('Eunice', 2), ('Extreme', 2), ('F.', 2), ('France', 2), ('GPA', 2), ('Grade', 2), ('H.', 2), ('Hash', 2), ('INIT', 2), ('JJ', 2), ('JavaScript', 2), ('Joe', 2), ('K', 2), ('Labs', 2), ('Length', 2), ('Leno', 2), ('Linux', 2), ('MAT', 2), ('Match', 2), ('Mathematical', 2), ('Moral', 2), ('Mrs.', 2), ('Multiply', 2), ('New', 2), ('Quiz', 2), ('RAISE', 2), ('Range', 2), ('Remainder', 2), ('SPEAKER', 2), ('Saint', 2), ('Security', 2), ('September', 2), ('Set', 2), ('Social', 2), ('States', 2), ('TR', 2), ('Thanksgiving', 2), ('UNIX', 2), ('United', 2), ('W', 2), ('X1', 2), ('Yankees', 2), ('York', 2), ('ZR', 2), ('Zero', 2), ('a.m.', 2), ('act', 2), ('active', 2), ('advantage', 2), ('ago', 2), ('ahead', 2), ('aim', 2), ('american', 2), ('analyze', 2), ('anticipate', 2), ('assert', 2), ('author', 2), ('available', 2), ('axis', 2), ('background', 2), ('balance', 2), ('bar', 2), ('batch', 2), ('beat', 2), ('beautifully', 2), ('beauty', 2), ('bind', 2), ('bite', 2), ('black', 2), ('board', 2), ('boom', 2), ('bored', 2), ('branch', 2), ('brilliant', 2), ('bump', 2), ('calculus', 2), ('canvas', 2), ('card', 2), ('carefully', 2), ('cast', 2), ('category', 2), ('challenging', 2), ('champion', 2), ('choice', 2), ('clarity', 2), ('classic', 2), ('clever', 2), ('cluster', 2), ('codon', 2), ('commit', 2), ('compile', 2), ('complicate', 2), ('computational', 2), ('conflict', 2), ('confusing', 2), ('continuous', 2), ('continuously', 2), ('contrived', 2), ('copying', 2), ('core', 2), ('correctly', 2), ('course', 2), ('cow', 2), ('creation', 2), ('creative', 2), ('credit', 2), ('cryptic', 2), ('csv', 2), ('cube', 2), ('cut', 2), ('cutie', 2), ('declare', 2), ('denominator', 2), ('despite', 2), ('dig', 2), ('direction', 2), ('discussion', 2), ('distract', 2), ('division', 2), ('doctor', 2), ('encapsulate', 2), ('english', 2), ('entice', 2), ('essence', 2), ('evening', 2), ('exam', 2), ('factor', 2), ('fantastic', 2), ('fast', 2), ('favorite', 2), ('feel', 2), ('financial', 2), ('fit', 2), ('fix', 2), ('flavor', 2), ('floor', 2), ('foot', 2), ('football', 2), ('formula', 2), ('fortify', 2), ('graph', 2), ('graphic', 2), ('half', 2), ('hell', 2), ('hey', 2), ('highlight', 2), ('identical', 2), ('imagine', 2), ('import', 2), ('impress', 2), ('inch', 2), ('increase', 2), ('indent', 2), ('indexing', 2), ('inductive', 2), ('industry', 2), ('influence', 2), ('initially', 2), ('instance', 2), ('instruct', 2), ('intention', 2), ('internal', 2), ('internally', 2), ('intersection', 2), ('introduce', 2), ('is.2', 2), ('join', 2), ('joke', 2), ('k.', 2), ('lay', 2), ('layout', 2), ('limitation', 2), ('literally', 2), ('lock', 2), ('lowercase', 2), ('man', 2), ('massive', 2), ('mathematician', 2), ('meaningful', 2), ('measurement', 2), ('mobile', 2), ('month', 2), ('mystery', 2), ('n', 2), ('natural', 2), ('navigate', 2), ('necessarily', 2), ('necessary', 2), ('network', 2), ('nevermind', 2), ('nicely', 2), ('non', 2), ('nonzero', 2), ('notify', 2), ('nuisance', 2), ('omit', 2), ('optional', 2), ('overflow', 2), ('peer', 2), ('perfect', 2), ('perform', 2), ('phone', 2), ('pi', 2), ('pick', 2), ('placeholder', 2), ('plan', 2), ('pocket', 2), ('policeman', 2), ('polish', 2), ('pound', 2), ('precise', 2), ('present', 2), ('probably', 2), ('professional', 2), ('professor', 2), ('proof', 2), ('propagate', 2), ('property', 2), ('py', 2), ('python', 2), ('questionnaire', 2), ('ray', 2), ('reach', 2), ('realize', 2), ('recall', 2), ('regular', 2), ('repetition', 2), ('report', 2), ('resource', 2), ('review', 2), ('rider', 2), ('rivalry', 2), ('rnb', 2), ('route', 2), ('satisfied', 2), ('scenario', 2), ('scientific', 2), ('scientist', 2), ('scratch', 2), ('se', 2), ('search', 2), ('sell', 2), ('sentinel', 2), ('setting', 2), ('share', 2), ('sign', 2), ('simplistic', 2), ('skip', 2), ('sling', 2), ('soccer', 2), ('speaker', 2), ('spec', 2), ('spell', 2), ('spit', 2), ('stand', 2), ('standard', 2), ('straightforward', 2), ('stress', 2), ('stub', 2), ('study', 2), ('suggestion', 2), ('summarize', 2), ('survive', 2), ('swallow', 2), ('syllabus', 2), ('syntactic', 2), ('terminology', 2), ('textbook', 2), ('tie', 2), ('topo', 2), ('training', 2), ('transfer', 2), ('transformation', 2), ('tri', 2), ('understanding', 2), ('unique', 2), ('university', 2), ('upgrade', 2), ('valid', 2), ('valuable', 2), ('visible', 2), ('volume', 2), ('waste', 2), ('website', 2), ('wheel', 2), ('window', 2), ('wonderful', 2), ('wow', 2), ('wrapper', 2), ('z', 2), (\"'\", 1), ('+00', 1), ('+1', 1), ('-3.2', 1), ('-4', 1), ('-62', 1), ('-9:50', 1), ('-BR', 1), ('-this', 1), ('.3', 1), ('.7', 1), ('.pop', 1), ('.the', 1), ('0', 1), ('000', 1), ('01', 1), ('1.4', 1), ('1.5', 1), ('10.0', 1), ('101', 1), ('104', 1), ('10th', 1), ('111', 1), ('12.5', 1), ('12.9', 1), ('14321', 1), ('14567', 1), ('15.01', 1), ('150', 1), ('1500', 1), ('19', 1), ('1984', 1), ('19th', 1), ('2.8', 1), ('200', 1), ('2000', 1), ('2011', 1), ('2015', 1), ('2020', 1), ('2025', 1), ('22', 1), ('223', 1), ('240', 1), ('25.5', 1), ('27', 1), ('275', 1), ('2s', 1), ('3000', 1), ('33', 1), ('33rd', 1), ('36', 1), ('38', 1), ('3X', 1), ('4', 1), ('400', 1), ('4000', 1), ('404', 1), ('418', 1), ('44', 1), ('4567', 1), ('46', 1), ('5', 1), ('5.5', 1), ('500', 1), ('523', 1), ('56', 1), ('57', 1), ('6', 1), ('600', 1), ('63', 1), ('65', 1), ('67', 1), ('69', 1), ('71', 1), ('72', 1), ('73', 1), ('75', 1), ('754', 1), ('77', 1), ('9:50', 1), ('A+', 1), ('A2', 1), ('AB', 1), ('ABCD', 1), ('AEI', 1), ('AGLP', 1), ('AL', 1), ('ART', 1), ('Age', 1), ('Ajay', 1), ('Americans', 1), ('Amy', 1), ('Andrew', 1), ('Answer', 1), ('Apple', 1), ('Arrow', 1), ('Assert', 1), ('BA', 1), ('Bracket', 1), ('Bruce', 1), ('C++', 1), ('C3', 1), ('CCS', 1), ('CLAS', 1), ('CPT', 1), ('CS210', 1), ('CUI', 1), ('CY', 1), ('California', 1), ('Called', 1), ('China', 1), ('Circle', 1), ('Coca', 1), ('Code', 1), ('Codon', 1), ('Cola', 1), ('Colin', 1), ('Column', 1), ('Commandant', 1), ('Comparison', 1), ('ConA', 1), ('Conclusion', 1), ('Consonants', 1), ('Constance', 1), ('Copy', 1), ('County', 1), ('D.', 1), ('DOA', 1), ('DOC', 1), ('Dean', 1), ('Dictionary', 1), ('Drago', 1), ('E', 1), ('EAX', 1), ('ELI', 1), ('EPT', 1), ('EQ', 1), ('EXC', 1), ('EXP', 1), ('Elementary', 1), ('Email', 1), ('Emma', 1), ('England', 1), ('Essex', 1), ('Europe', 1), ('Expression', 1), ('FDOT', 1), ('FO', 1), ('February', 1), ('Flow', 1), ('Forest', 1), ('Grades', 1), ('H', 1), ('HAOYAG', 1), ('HEY', 1), ('HTTP', 1), ('HZ', 1), ('Hanley', 1), ('Height', 1), ('Holy', 1), ('I.', 1), ('IDA', 1), ('IM', 1), ('Idea', 1), ('Index', 1), ('India', 1), ('Inject', 1), ('Integer', 1), ('Interpreter', 1), ('Jason', 1), ('Jay', 1), ('Job', 1), ('Jobs', 1), ('K.', 1), ('Karen', 1), ('Keyvalue', 1), ('Koepka', 1), ('LCM', 1), ('LE', 1), ('LEN', 1), ('LPEA', 1), ('Lecture', 1), ('Lectures', 1), ('Limit', 1), ('List.reverse', 1), ('Liz', 1), ('Loops', 1), ('Lynn', 1), ('MAC', 1), ('MATCH', 1), ('MER', 1), ('MPI', 1), ('MUM2', 1), ('Martin', 1), ('Math', 1), ('Mathematics', 1), ('Max', 1), ('Meaning', 1), ('Megan', 1), ('Minister', 1), ('Mix', 1), ('Morning', 1), ('Ms.', 1), ('N.', 1), ('NJ', 1), ('Nathan', 1), ('Necessary', 1), ('Negative', 1), ('Norway', 1), ('Notice', 1), ('NumPy', 1), ('OMISSION', 1), ('OU', 1), ('Operator', 1), ('Oscars', 1), ('P', 1), ('P.', 1), ('PARENT', 1), ('PAS', 1), ('PIAS', 1), ('PSS', 1), ('Parentheses', 1), ('Pass', 1), ('Pastaria', 1), ('Pi', 1), ('Pseudocode', 1), ('Purpose', 1), ('Q', 1), ('R', 1), ('RT', 1), ('RTA', 1), ('RV', 1), ('Redpath', 1), ('Relational', 1), ('Robles', 1), ('SCLF', 1), ('SSL', 1), ('STIR', 1), ('STR', 1), ('STUDENTA', 1), ('STUDENTLoud', 1), ('Sam', 1), ('Sentinel', 1), ('Suji', 1), ('Sum', 1), ('Syntax', 1), ('TUPLE', 1), ('Texas', 1), ('Thursday', 1), ('Times', 1), ('Try', 1), ('Type', 1), ('U.S.', 1), ('UC', 1), ('UM', 1), ('University', 1), ('V', 1), ('VA', 1), ('W.', 1), ('W3', 1), ('WHI', 1), ('WP', 1), ('Waterslides', 1), ('Weight', 1), ('X2', 1), ('Z', 1), ('a+', 1), ('a-', 1), ('a_after', 1), ('a_before', 1), ('ability', 1), ('abstraction', 1), ('acceptable', 1), ('accessing', 1), ('acquire', 1), ('activate', 1), ('actual', 1), ('adding', 1), ('addition', 1), ('advice', 1), ('afraid', 1), ('aft', 1), ('agent', 1), ('ajay', 1), ('algorithmic', 1), ('allocation', 1), ('aloud', 1), ('annotate', 1), ('announce', 1), ('announcement', 1), ('antitype', 1), ('appoint', 1), ('appreciate', 1), ('approximation', 1), ('architecture', 1), ('array', 1), ('arrest', 1), ('article', 1), ('ashy', 1), ('assembly', 1), ('asset', 1), ('assist', 1), ('assistance', 1), ('attempt', 1), ('attendance', 1), ('auger', 1), ('aunt', 1), ('avh', 1), ('avi', 1), ('awake', 1), ('away', 1), ('awesome', 1), ('ball', 1), ('banana', 1), ('bank', 1), ('basketball', 1), ('bat', 1), ('bear', 1), ('behave', 1), ('beneficial', 1), ('beta', 1), ('bethat', 1), ('bill', 1), ('billion', 1), ('binary', 1), ('biscuit', 1), ('blanket', 1), ('blueprint', 1), ('bold', 1), ('bolt', 1), ('bond', 1), ('boot', 1), ('border', 1), ('boyfriend', 1), ('brain', 1), ('bribery', 1), ('browse', 1), ('bucket', 1), ('bullet', 1), ('bulleted', 1), ('bypass', 1), ('bytes', 1), ('c3', 1), ('calc', 1), ('calculator', 1), ('calm', 1), ('campus', 1), ('cancel', 1), ('cap', 1), ('car', 1), ('cart', 1), ('categorize', 1), ('cause', 1), ('cell', 1), ('celsius', 1), ('centimeter', 1), ('century', 1), ('chairman', 1), ('changing', 1), ('characteristic', 1), ('checking', 1), ('checkmark', 1), ('chiasm', 1), ('classical', 1), ('classification', 1), ('classify', 1), ('classroom', 1), ('clearly', 1), ('clinician', 1), ('closing', 1), ('cloud', 1), ('coccode', 1), ('coded', 1), ('coding', 1), ('coffee', 1), ('cog', 1), ('colorful', 1), ('coming', 1), ('commonality', 1), ('commonly', 1), ('communicate', 1), ('communication', 1), ('compete', 1), ('completeness', 1), ('completion', 1), ('compose', 1), ('compost', 1), ('concentrate', 1), ('conceptually', 1), ('conclude', 1), ('concrete', 1), ('condensed', 1), ('confidence', 1), ('confirmation', 1), ('confused', 1), ('consort', 1), ('constrain', 1), ('construct', 1), ('consult', 1), ('continent', 1), ('contingent', 1), ('contradict', 1), ('contribution', 1), ('conventional', 1), ('conversion', 1), ('converting', 1), ('convey', 1), ('convincing', 1), ('convoluted', 1), ('coordinate', 1), ('coordinator', 1), ('copper', 1), ('correctional', 1), ('cough', 1), ('countie', 1), ('country', 1), ('coupon', 1), ('crash', 1), ('crush', 1), ('curve', 1), ('cy', 1), ('daily', 1), ('datatype', 1), ('dealing', 1), ('debunk', 1), ('decimal', 1), ('decision', 1), ('decree', 1), ('dedicate', 1), ('defer', 1), ('definitely', 1), ('delicate', 1), ('department', 1), ('dependent', 1), ('desert', 1), ('destination', 1), ('detailed', 1), ('detection', 1), ('determinant', 1), ('developer', 1), ('dialogue', 1), ('diamond', 1), ('dictator', 1), ('dictionary.from', 1), ('differentiate', 1), ('differentiation', 1), ('digit', 1), ('digital', 1), ('director', 1), ('disagree', 1), ('disagreement', 1), ('discard', 1), ('discotheque', 1), ('discover', 1), ('discreet', 1), ('displacement', 1), ('disposition', 1), ('disregard', 1), ('diver', 1), ('diverse', 1), ('divid', 1), ('dividing', 1), ('dome', 1), ('doom', 1), ('dysfunction', 1), ('e-2', 1), ('earn', 1), ('easily', 1), ('ectasy', 1), ('efficient', 1), ('election', 1), ('elegant', 1), ('employee', 1), ('enclose', 1), ('encounter', 1), ('enhance', 1), ('enjoy', 1), ('enterprise', 1), ('estate', 1), ('euro', 1), ('exceed', 1), ('exemplified', 1), ('existence', 1), ('exp', 1), ('experiment', 1), ('expiration', 1), ('explanation', 1), ('explicit', 1), ('exponent,.5', 1), ('extraction', 1), ('extraordinarily', 1), ('facilitate', 1), ('fair', 1), ('fake', 1), ('falsify', 1), ('fantasy', 1), ('feedback', 1), ('feeling', 1), ('figure', 1), ('fixed', 1), ('flexion', 1), ('formal', 1), ('formalism', 1), ('formally', 1), ('frame', 1), ('frank', 1), ('frog', 1), ('generalizable', 1), ('generation', 1), ('genre', 1), ('german', 1), ('girlfriend', 1), ('glass', 1), ('glimpse', 1), ('glue', 1), ('goat', 1), ('gracefully', 1), ('gradient', 1), ('grandmother', 1), ('gravel', 1), ('grow', 1), ('guacamole', 1), ('guide', 1), ('h', 1), ('hack', 1), ('hardware', 1), ('hassle', 1), ('hat', 1), ('heart', 1), ('hello', 1), ('hint', 1), ('hire', 1), ('hit', 1), ('hmm', 1), ('holding', 1), ('hole', 1), ('holiday', 1), ('honest', 1), ('horrible', 1), ('i.e.', 1), ('icon', 1), ('ideal', 1), ('identification', 1), ('illustrate', 1), ('image', 1), ('immediate', 1), ('immutable', 1), ('impact', 1), ('impart', 1), ('improve', 1), ('incodevelopment', 1), ('inconsistency', 1), ('incredible', 1), ('incremental', 1), ('independently', 1), ('indication', 1), ('indicator', 1), ('inference', 1), ('infrastructure', 1), ('inherently', 1), ('init', 1), ('injection', 1), ('inputte', 1), ('insight', 1), ('installation', 1), ('intend', 1), ('interviewee', 1), ('interviewer', 1), ('invite', 1), ('ip', 1), ('is.02', 1), ('is.5', 1), ('isbetter', 1), ('issix', 1), ('iterable', 1), ('iterator', 1), ('java', 1), ('job', 1), ('joint', 1), ('jumping', 1), ('keys', 1), ('kid', 1), ('kill', 1), ('king', 1), ('late', 1), ('lazy', 1), ('leg', 1), ('limited', 1), ('linear', 1), ('liner', 1), ('list.reverse', 1), ('listen', 1), ('literal', 1), ('live', 1), ('load', 1), ('locality', 1), ('locally', 1), ('logically', 1), ('login', 1), ('lookout', 1), ('looping', 1), ('loudly', 1), ('love', 1), ('magic', 1), ('mail', 1), ('male', 1), ('mandatory', 1), ('manipulating', 1), ('manner', 1), ('meantime', 1), ('medium', 1), ('meet', 1), ('meme', 1), ('memorize', 1), ('mental', 1), ('metric', 1), ('microphone', 1), ('midsized', 1), ('migrate', 1), ('mile', 1), ('miniapplication', 1), ('minimize', 1), ('mining', 1), ('mistreatment', 1), ('mix', 1), ('mixed', 1), ('modification', 1), ('modify', 1), ('module', 1), ('mother', 1), ('motorcycle', 1), ('mportance', 1), ('multi', 1), ('mundane', 1), ('music', 1), ('mutable', 1), ('n.', 1), ('name.apple', 1), ('name.banana', 1), ('naris', 1), ('narrow', 1), ('naturalness', 1), ('neglect', 1), ('neighbor', 1), ('nested', 1), ('nicer', 1), ('night', 1), ('nightmare', 1), ('no.here', 1), ('noun', 1), ('obey', 1), ('objects', 1), ('obligation', 1), ('observe', 1), ('obstruction', 1), ('obvious', 1), ('offense', 1), ('offer', 1), ('officially', 1), ('offset', 1), ('oil', 1), ('oldie', 1), ('online', 1), ('operational', 1), ('opinion', 1), ('opportunity', 1), ('option', 1), ('orange', 1), ('ordering', 1), ('organicitie', 1), ('organization', 1), ('orient', 1), ('orientation', 1), ('origin', 1), ('original', 1), ('outage', 1), ('overhead', 1), ('overview', 1), ('p.', 1), ('p2', 1), ('page', 1), ('pairing', 1), ('particularity', 1), ('party', 1), ('patient', 1), ('pc', 1), ('percentage', 1), ('perfectly', 1), ('performance', 1), ('pervasive', 1), ('phd', 1), ('physical', 1), ('pitfall', 1), ('plain', 1), ('plenty', 1), ('plotting', 1), ('po', 1), ('pointed', 1), ('pointing', 1), ('politician', 1), ('population', 1), ('positionally', 1), ('potentially', 1), ('practical', 1), ('pre', 1), ('precaution', 1), ('precision', 1), ('predefine', 1), ('predict', 1), ('preferred', 1), ('preparation', 1), ('presence', 1), ('president', 1), ('pressing', 1), ('pretty', 1), ('primitive', 1), ('principle', 1), ('printing', 1), ('printout', 1), ('prior', 1), ('problematic', 1), ('progress', 1), ('prompt', 1), ('properly', 1), ('pseudo', 1), ('pseudocode', 1), ('psychedelic', 1), ('pull', 1), ('qeue', 1), ('quantification', 1), ('quantity', 1), ('queer', 1), ('quotation', 1), ('radar', 1), ('random.uniform', 1), ('randomization', 1), ('randomly', 1), ('rater', 1), ('ratio', 1), ('rational', 1), ('reading', 1), ('reality', 1), ('realization', 1), ('reasoning', 1), ('recent', 1), ('reduce', 1), ('refroze', 1), ('reiterate', 1), ('relation', 1), ('relational', 1), ('relevant', 1), ('reliable', 1), ('rely', 1), ('repair', 1), ('repeating', 1), ('research', 1), ('reservation', 1), ('response', 1), ('restore', 1), ('restrict', 1), ('restriction', 1), ('reuse', 1), ('revert', 1), ('ritten', 1), ('rochon', 1), ('room', 1), ('routinely', 1), ('rubbish', 1), ('sacred', 1), ('safety', 1), ('samurai', 1), ('sat', 1), ('satisfie', 1), ('saving', 1), ('scared', 1), ('schema', 1), ('security', 1), ('seed', 1), ('selection', 1), ('self.hour', 1), ('semi', 1), ('series', 1), ('service', 1), ('shake', 1), ('shall', 1), ('sharp', 1), ('shine', 1), ('shop', 1), ('shot', 1), ('significant', 1), ('silicone', 1), ('simplify', 1), ('simply', 1), ('simulation', 1), ('simulator', 1), ('simultaneously', 1), ('sir', 1), ('sister', 1), ('sitting', 1), ('sized', 1), ('skill', 1), ('sleepy', 1), ('slice', 1), ('slowly', 1), ('smart', 1), ('software', 1), ('solution', 1), ('song', 1), ('soon', 1), ('speake', 1), ('specialized', 1), ('speed', 1), ('spirit', 1), ('stage', 1), ('stare', 1), ('stars.5', 1), ('stat', 1), ('station', 1), ('statistically', 1), ('stone', 1), ('storage', 1), ('straight', 1), ('stream', 1), ('streamline', 1), ('stride', 1), ('studentwhat', 1), ('sub', 1), ('submit', 1), ('substitute', 1), ('subtle', 1), ('succeed', 1), ('suffix', 1), ('summer', 1), ('summit', 1), ('summon', 1), ('supplemental', 1), ('supply', 1), ('support', 1), ('surface', 1), ('surname', 1), ('tackle', 1), ('taker', 1), ('takes', 1), ('tale', 1), ('tall', 1), ('target', 1), ('tbh', 1), ('tea', 1), ('team', 1), ('tear', 1), ('technical', 1), ('technically', 1), ('telephone', 1), ('temperature', 1), ('testing', 1), ('that.2', 1), ('thesesemantic', 1), ('threeyou', 1), ('tight', 1), ('times', 1), ('tiny', 1), ('topography', 1), ('trace', 1), ('trade', 1), ('trademark', 1), ('traditional', 1), ('train', 1), ('translating', 1), ('treatment', 1), ('tree', 1), ('trendy', 1), ('trigonometry', 1), ('trivial', 1), ('truck', 1), ('truly', 1), ('trust', 1), ('tumble', 1), ('txt', 1), ('umbrella', 1), ('unaware', 1), ('unconditional', 1), ('undefined', 1), ('underway', 1), ('undesired', 1), ('unfamiliar', 1), ('unify', 1), ('unlimited', 1), ('unnumbered', 1), ('unrelated', 1), ('upper', 1), ('upset', 1), ('utility', 1), ('v', 1), ('variety', 1), ('vendor', 1), ('versa', 1), ('vice', 1), ('viewing', 1), ('w', 1), ('w3', 1), ('watch', 1), ('weekly', 1), ('weigh', 1), ('width', 1), ('wife', 1), ('win', 1), ('wind', 1), ('woman', 1), ('wrap', 1), ('y', 1), ('ya', 1), ('yellow', 1), ('yesterday', 1), ('youwrite', 1), ('z.', 1), ('zoom', 1), ('zy', 1)]\n"
     ]
    },
    {
     "data": {
      "image/png": "[encoded data removed]",
      "text/plain": [
       "<Figure size 640x480 with 1 Axes>"
      ]
     },
     "metadata": {},
     "output_type": "display_data"
    }
   ],
   "source": [
    "if __name__ == \"__main__\":\n",
    "    # this block of code is executed when directly running the script, not when importing the script as a module\n",
    "    \"\"\"\n",
    "    Feel free to modify the code inside this if block to test your functions\n",
    "    \"\"\"\n",
    "    word_frequencies_list = []\n",
    "    cumulated_frequency = None\n",
    "    for i in range(1, 13):\n",
    "        fileName = f'./data/transcript {i}.pdf'\n",
    "        print(f\"Processing {fileName}\")\n",
    "\n",
    "        # extract text from the PDF file\n",
    "        text = extract_pdf_text(fileName)\n",
    "        text = remove_headers(text)\n",
    "        text = remove_parentheses(text)\n",
    "        text = remove_speakers(text)\n",
    "\n",
    "        # natural language preprocessing\n",
    "        sentences = split_into_sentences(text)\n",
    "        processed_text = []\n",
    "        for sentence in sentences:\n",
    "            tokens = tokenize_sentence(sentence)\n",
    "            tokens = remove_stopwords(tokens)\n",
    "            processed_text.append(tokens)\n",
    "\n",
    "        # update count of word frequency\n",
    "        cumulated_frequency = update_word_frequency(processed_text, cumulated_frequency)\n",
    "        word_frequencies_list.append(cumulated_frequency.copy())\n",
    "        \n",
    "\n",
    "    # plot the word final cumulative frequency distribution\n",
    "    plot_word_frequency_dist(word_frequencies_list[-1])\n",
    "\n",
    "    # sort words by final cumulative frequency\n",
    "    sorted_words = sort_words_by_frequency(word_frequencies_list[-1])\n",
    "    print(sorted_words)\n",
    "    # find bucket index of all words\n",
    "    sorted_word_info = find_bucket_index_of_words(sorted_words)\n",
    "\n",
    "    # take words whose bucket index >= 5 (i.e. frequency >= mean + 5 * std)\n",
    "    filtered_words = [(info['word'], info['frequency']) for info in sorted_word_info if info['bucket'] >= 5]\n",
    "\n",
    "    # plot stacked word frequency\n",
    "    plot_stacked_word_frequency(word_frequencies_list, filtered_words)\n",
    "    "
   ]
  }
 ],
 "metadata": {
  "kernelspec": {
   "display_name": "Python 3",
   "language": "python",
   "name": "python3"
  },
  "language_info": {
   "codemirror_mode": {
    "name": "ipython",
    "version": 3
   },
   "file_extension": ".py",
   "mimetype": "text/x-python",
   "name": "python",
   "nbconvert_exporter": "python",
   "pygments_lexer": "ipython3",
   "version": "3.10.12"
  }
 },
 "nbformat": 4,
 "nbformat_minor": 2
}
